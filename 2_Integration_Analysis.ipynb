{
 "cells": [
  {
   "cell_type": "markdown",
   "metadata": {},
   "source": [
    "Notebook and data of Ruben Brabenec.\n",
    "\n",
    "This information, data and code belong to Ruben Brabenec (Helmholtz Zentrum München). \n",
    "\n",
    "Disclosure to third parties is prohibited and requires consent."
   ]
  },
  {
   "cell_type": "code",
   "execution_count": null,
   "metadata": {},
   "outputs": [],
   "source": [
    "#pip install psutil'"
   ]
  },
  {
   "cell_type": "code",
   "execution_count": null,
   "metadata": {},
   "outputs": [],
   "source": [
    "#!pip install --quiet scvi-colab"
   ]
  },
  {
   "cell_type": "code",
   "execution_count": null,
   "metadata": {},
   "outputs": [],
   "source": [
    "#!pip install --quiet scib-metrics"
   ]
  },
  {
   "cell_type": "code",
   "execution_count": null,
   "metadata": {},
   "outputs": [],
   "source": [
    "#from scvi_colab import install"
   ]
  },
  {
   "cell_type": "code",
   "execution_count": null,
   "metadata": {},
   "outputs": [],
   "source": [
    "#!/opt/python/bin/python3.8 -m pip install --upgrade pip"
   ]
  },
  {
   "cell_type": "code",
   "execution_count": null,
   "metadata": {},
   "outputs": [],
   "source": [
    "#pip install ipykernel"
   ]
  },
  {
   "cell_type": "code",
   "execution_count": null,
   "metadata": {},
   "outputs": [],
   "source": [
    "#pip install sfaira"
   ]
  },
  {
   "cell_type": "code",
   "execution_count": null,
   "metadata": {},
   "outputs": [],
   "source": [
    "#pip install --upgrade anndata"
   ]
  },
  {
   "cell_type": "code",
   "execution_count": null,
   "metadata": {},
   "outputs": [],
   "source": [
    "#pip install scanpy"
   ]
  },
  {
   "cell_type": "code",
   "execution_count": null,
   "metadata": {},
   "outputs": [],
   "source": [
    "#pip install scanorama"
   ]
  },
  {
   "cell_type": "code",
   "execution_count": null,
   "metadata": {},
   "outputs": [],
   "source": [
    "#pip install scvi-tools"
   ]
  },
  {
   "cell_type": "code",
   "execution_count": null,
   "metadata": {},
   "outputs": [],
   "source": [
    "#pip install harmony"
   ]
  },
  {
   "cell_type": "code",
   "execution_count": null,
   "metadata": {},
   "outputs": [],
   "source": [
    "#pip install --upgrade numba dask sparse"
   ]
  },
  {
   "cell_type": "code",
   "execution_count": null,
   "metadata": {},
   "outputs": [],
   "source": [
    "#pip install --upgrade scanpy"
   ]
  },
  {
   "cell_type": "code",
   "execution_count": null,
   "metadata": {},
   "outputs": [],
   "source": [
    "#pip install ace_tools "
   ]
  },
  {
   "cell_type": "code",
   "execution_count": null,
   "metadata": {},
   "outputs": [],
   "source": [
    "#pip install --upgrade torch"
   ]
  },
  {
   "cell_type": "code",
   "execution_count": null,
   "metadata": {},
   "outputs": [],
   "source": [
    "#pip install --upgrade pytorch-lightning"
   ]
  },
  {
   "cell_type": "code",
   "execution_count": null,
   "metadata": {},
   "outputs": [],
   "source": [
    "#!pip uninstall torch -y"
   ]
  },
  {
   "cell_type": "code",
   "execution_count": null,
   "metadata": {},
   "outputs": [],
   "source": [
    "#!pip install --upgrade torch"
   ]
  },
  {
   "cell_type": "code",
   "execution_count": null,
   "metadata": {},
   "outputs": [],
   "source": [
    "#pip install scvi-tools --upgrade"
   ]
  },
  {
   "cell_type": "code",
   "execution_count": 5,
   "metadata": {},
   "outputs": [],
   "source": [
    "#pip install --upgrade flax"
   ]
  },
  {
   "cell_type": "code",
   "execution_count": null,
   "metadata": {},
   "outputs": [],
   "source": [
    "pip list"
   ]
  },
  {
   "cell_type": "markdown",
   "metadata": {},
   "source": [
    "# General Settings"
   ]
  },
  {
   "cell_type": "code",
   "execution_count": null,
   "metadata": {},
   "outputs": [],
   "source": [
    "# Settings for the data and parameters\n",
    "Folder_run_through = '1'  # A unique number for each run; increment or reuse as necessary\n",
    "Tumor_h5ad = '002-Tumor-AcuteMyeloidLeukemia-AML-VanGalen-2019-RubenBrabenec_TumorProject-processed.h5ad'  # Path to the tumor dataset\n",
    "Tumor_Type_Name = 'AML'  # Abbreviation for the tumor type (e.g., Acute Myeloid Leukemia)\n",
    "Name_Tumor_celltype = 'AML cells'  # Name of the tumor cell type in the dataset"
   ]
  },
  {
   "cell_type": "code",
   "execution_count": null,
   "metadata": {},
   "outputs": [],
   "source": [
    "import scvi\n",
    "from rich import print\n",
    "from scib_metrics.benchmark import Benchmarker\n",
    "from scvi.model.utils import mde\n",
    "from scvi_colab import install"
   ]
  },
  {
   "cell_type": "code",
   "execution_count": null,
   "metadata": {},
   "outputs": [],
   "source": [
    "# Import necessary libraries\n",
    "import scvi\n",
    "from rich import print\n",
    "from scib_metrics.benchmark import Benchmarker\n",
    "from scvi.model.utils import mde\n",
    "from scvi_colab import install\n",
    "\n",
    "import scanpy as sc\n",
    "import numpy as np\n",
    "import scipy as sp\n",
    "import pandas as pd\n",
    "import matplotlib.pyplot as plt\n",
    "from matplotlib import rcParams\n",
    "from matplotlib import colors\n",
    "import seaborn as sb\n",
    "from gprofiler import gprofiler\n",
    "import warnings\n",
    "from rpy2.rinterface import RRuntimeWarning\n",
    "from rpy2.robjects import pandas2ri\n",
    "%load_ext rpy2.ipython\n",
    "import os\n",
    "from os import listdir\n",
    "from os.path import isfile, join\n",
    "import sys\n",
    "import psutil\n",
    "import anndata\n",
    "import scanorama\n",
    "import scanpy.external as sce\n",
    "\n",
    "# Suppress warnings related to RRuntime and activate the pandas to R conversion interface\n",
    "warnings.filterwarnings(\"ignore\", category=RRuntimeWarning)\n",
    "pandas2ri.activate()\n",
    "\n",
    "# Set pandas options for displaying large datasets\n",
    "pd.set_option('display.max_rows', 500)\n",
    "pd.set_option('display.max_columns', 500)\n",
    "\n",
    "# Set verbosity level for Scanpy (controls logging output)\n",
    "sc.settings.verbosity = 3\n",
    "\n",
    "# Define a custom colormap for gene expression visualization\n",
    "colors2 = plt.cm.Reds(np.linspace(0, 1, 128))\n",
    "colors3 = plt.cm.Greys_r(np.linspace(0.7, 0.8, 20))\n",
    "colorsComb = np.vstack([colors3, colors2])\n",
    "mymap = colors.LinearSegmentedColormap.from_list('my_colormap', colorsComb)\n",
    "\n",
    "# Configure figure parameters for Scanpy visualizations\n",
    "sc.set_figure_params(vector_friendly=True, color_map='Reds',\n",
    "                     dpi=200, transparent=True, fontsize=14)\n",
    "\n",
    "# Define a custom color palette for visualizations\n",
    "palette = ['#3519ED', '#EDFBA8', '#4D2E6A', '#0ECDB4', '#0C23B5', '#92BF0D', '#51F2E4', '#1CB09D', \n",
    "           '#BFC1D4', '#A98BF3', '#98D1C6', '#9A5E72', '#B89327', '#6704A5', '#0F64B2', '#A69CF3', \n",
    "           '#D97C2E', '#321795', '#7E2649', '#65A813', '#734E0F', '#D14FBC', '#2CFA50', '#83610A',\n",
    "           '#841032', '#04D8E3', '#8605BA', '#1EF60C', '#602587', '#F9AD1B', '#2BD738', '#C8E239',\n",
    "           '#46D1BC', '#465A01', '#70C51E', '#924DFB', '#5D28E4', '#712E8D', '#30F465', '#5287E1',\n",
    "           '#D16B7F', '#B8EF72', '#03B15D', '#4290F3', '#5E9063', '#B0E39F', '#3C6205', '#ACE603', \n",
    "           '#2DE57A', '#052B18', '#69BE75', '#8BE509', '#C37041', '#E218BA', '#5AC097', '#A597C4', \n",
    "           '#2A13B5', '#823FA7', '#C8F349', '#7C482A', '#A104E5', '#8E3C27', '#1DB457', '#36FDC7',\n",
    "           '#60A934', '#F43B78', '#74EF61', '#810527', '#6D293F', '#F1A709', '#274F6C', '#104EB5', \n",
    "           '#6D02CE', '#B36AE5', '#13F9BA', '#C7281F', '#31572B', '#07D94B', '#B45E18', '#9F73D1',\n",
    "           '#3CA059', '#4D6B1C', '#3BA785', '#E3084C', '#A61BF4', '#F3D50A', '#640A32', '#FB0D73', \n",
    "           '#AD0126', '#279136', '#480EB1', '#634158', '#FD80E5', '#CF26AE', '#046DB9', '#15F6B8', \n",
    "           '#1A047C', '#D14826', '#45D160', '#C6039B', '#D9C23F', '#70829B', '#940ECF', '#9FAB37', \n",
    "           '#BA84C7', '#68F275', '#C79EA1', '#6E89B7', '#712D6C', '#F51D8C', '#D564E0', '#24EA18', \n",
    "           '#459C71', '#23F50B', '#3E57C8', '#6D78F9', '#07EC9F', '#3078C5', '#53EC0A', '#D283E5', \n",
    "           '#16039B', '#61E0A8', '#10A659', '#52374A', '#B31EC4', '#254D10', '#D5B0F4', '#A79E35', \n",
    "           '#2D0F45', '#562D18', '#ABE562', '#9A0842', '#92165C', '#FCD98A', '#B384DA', '#3CB108', \n",
    "           '#2FE04C', '#386CA2', '#423719', '#E540C2', '#C58DE9', '#F6B8E4', '#87592B', '#94D53F', \n",
    "           '#4AB5E3', '#B0E96C', '#AD94E6', '#E237B8', '#21F0B9', '#FB9C73']\n",
    "\n",
    "# Function to play a sound upon encountering an error\n",
    "from IPython.display import Audio, display\n",
    "def play_sound(self, etype, value, tb, tb_offset=None):\n",
    "    \"\"\"\n",
    "    Custom function to play a sound when an error occurs.\n",
    "    \"\"\"\n",
    "    self.showtraceback((etype, value, tb), tb_offset=tb_offset)\n",
    "    display(Audio(url='https://wav-sounds.com/wp-content/uploads/2017/09/Movie-03.wav', autoplay=True))\n",
    "\n",
    "# Set custom exception handler to play sound upon error\n",
    "get_ipython().set_custom_exc((Exception,), play_sound)\n",
    "\n",
    "# Path for storing result files, based on current working directory and folder structure\n",
    "current_path = os.getcwd()  # Get current working directory\n",
    "Tumor_File_Path_Overview = current_path + '/'  # Base directory\n",
    "Tumor_File_Path_Overview = Tumor_File_Path_Overview + 'Subfolder/'  # Subfolder for project\n",
    "Tumor_File_Path = Tumor_File_Path_Overview + Folder_run_through + '/'  # Final path based on run-through folder\n"
   ]
  },
  {
   "cell_type": "markdown",
   "metadata": {},
   "source": [
    "# Prepare Healthy Data - Using SCVI - In Silico Human Atlas"
   ]
  },
  {
   "cell_type": "code",
   "execution_count": null,
   "metadata": {},
   "outputs": [],
   "source": [
    "# Define a list of relevant genes for analysis\n",
    "genes = ['NTRK1', 'CD33', 'IL3RA', 'CSF1R', 'CD86']\n",
    "# Output the number of genes\n",
    "print(f\"The number of genes in the list: {len(genes)}\")"
   ]
  },
  {
   "cell_type": "code",
   "execution_count": null,
   "metadata": {},
   "outputs": [],
   "source": [
    "# Define the path where healthy datasets are stored\n",
    "path = '/lustre/groups/labs/marr/qscd01/workspace/ruben.brabenec/adatas/healthy/'\n",
    "\n",
    "# List of healthy single-cell RNA-seq datasets\n",
    "# Each entry represents an h5ad file associated with a different organ or study.\n",
    "# The datasets come from various research projects and were processed specifically for this study.\n",
    "list_of_healthy_datasets = ['01-1-Brain-Habib-2017-RubenBrabenec_HealthyProject-processed.h5ad',\n",
    "                            '01-2-Brain_Cerebellum-Han-2020-RubenBrabenec_HealthyProject-processed.h5ad',\n",
    "                            '01-3-Brain_TemporalLobe-Han-2020-RubenBrabenec_HealthyProject-processed.h5ad',\n",
    "                            '01-4-Brain_SupragranularIntratelencephalicProjectingNeurons-Lein-2020-RubenBrabenec_IllProject-processed.h5ad',\n",
    "                            '01-5-Brain_PrimaryMotorCortex-Brainmap-2020-RubenBrabenec_HealthyProject-processed.h5ad',\n",
    "                            '01-6-Brain_MultipleAreas-Brainmap-2019-RubenBrabenec_HealthyProject-processed.h5ad',\n",
    "                            \n",
    "                            '03-1-Eye-Chen-2019-RubenBrabenec_HealthyProject-processed.h5ad',\n",
    "                            '03-2-Eye-Lukowski-2019-RubenBrabenec_HealthyProject-processed.h5ad',\n",
    "                            '03-3-Eye-Pisco-2022-RubenBrabenec_HealthyProject-processed.h5ad',\n",
    "                            \n",
    "                            '04-1-Oesophagus-Madissoon-2019-RubenBrabenec_HealthyProject-processed.h5ad',\n",
    "                            '04-9-Oesophagus-Han-2020-RubenBrabenec_HealthyProject-processed.h5ad',\n",
    "                            '04-10-Stomach-Han-2020-RubenBrabenec_HealthyProject-processed.h5ad',\n",
    "                                \n",
    "                            '04-7-Gut_SmallIntestine-Pisco-2022-RubenBrabenec_HealthyProject-processed.h5ad',\n",
    "                            '04-2-Gut_Colon-James-2020-RubenBrabenec_HealthyProject-processed.h5ad',\n",
    "                            '04-3-Gut_Colon_SmallIntestine-Simmons-2021-RubenBrabenec_HealthyProject-processed.h5ad',\n",
    "                            '04-4-Gut_Colon-Wang-2019-RubenBrabenec_HealthyProject-processed.h5ad',\n",
    "                            '04-6-Gut_Colon-Pisco-2022-RubenBrabenec_HealthyProject-processed.h5ad',\n",
    "                            '04-5-Gut_Rectum-Wang-2019-RubenBrabenec_HealthyProject-processed.h5ad',\n",
    "                            '04-8-Gut_Colon_SmallIntestine-Han-2020-RubenBrabenec_HealthyProject-processed.h5ad',\n",
    "                            '04-12-Gut_Colon_ImmuneCells-Teichmann-2022-RubenBrabenec_HealthyProject-processed.h5ad',\n",
    "                            '04-13-Gut_SmallIntestine_ImmuneCells-Teichmann-2022-RubenBrabenec_HealthyProject-processed.h5ad',\n",
    "                                \n",
    "                            '04-11-Omentum-Han-2020-RubenBrabenec_HealthyProject-processed.h5ad',\n",
    "                            '04-14-Omentum_ImmuneCells-Teichmann-2022-RubenBrabenec_HealthyProject-processed.h5ad',\n",
    "                        \n",
    "                            '05-1-Liver-MacParland-2018-RubenBrabenec_HealthyProject-processed.h5ad',\n",
    "                            '05-2-Liver-Ramachandran-2019-RubenBrabenec_HealthyProject-processed.h5ad',\n",
    "                            '05-4-Liver-Pisco-2022-RubenBrabenec_HealthyProject-processed.h5ad',\n",
    "                           '05-3-Liver-Andrews-2021-RubenBrabenec_HealthyProject-processed.h5ad',\n",
    "                            '05-5-GallBladder-Han-2020-RubenBrabenec_HealthyProject-processed.h5ad',\n",
    "                            '05-6-Liver-Han-2020-RubenBrabenec_HealthyProject-processed.h5ad',\n",
    "                           '05-7-Liver_ImmuneCells-Teichmann-2022-RubenBrabenec_HealthyProject-processed.h5ad',\n",
    "                             \n",
    "                            '06-1-Pancreas-Baron-2016-RubenBrabenec_HealthyProject-processed.h5ad',\n",
    "                            '06-2-Pancreas-Peng-2019-RubenBrabenec_HealthyProject-processed.h5ad',\n",
    "                           '06-3-Pancreas-Enge-2017-RubenBrabenec_HealthyProject-processed.h5ad',\n",
    "                           '06-4-Pancreas-Oudenaarden-2016-RubenBrabenec_HealthyProject-processed.h5ad',\n",
    "                            '06-5-Pancreas-Pisco-2022-RubenBrabenec_HealthyProject-processed.h5ad',\n",
    "                          '06-6-Pancreas-Han-2020-RubenBrabenec_HealthyProject-processed.h5ad',\n",
    "                            \n",
    "                            '07-1-Spleen-Pisco-2022-RubenBrabenec_HealthyProject-processed.h5ad',\n",
    "                            '07-2-Spleen-Han-2020-RubenBrabenec_HealthyProject-processed.h5ad',\n",
    "                            '07-3-Spleen_ImmuneCells-Teichmann-2022-RubenBrabenec_HealthyProject-processed.h5ad',\n",
    "                             \n",
    "                            '08-1-LymphNode-Kim-2020-RubenBrabenec_HealthyProject-processed.h5ad',\n",
    "                           '08-2-LymphNode-Butcher-2020-RubenBrabenec_HealthyProject-processed.h5ad',\n",
    "                           '08-3-Thymus-Park-2020-RubenBrabenec_HealthyProject-processed.h5ad',\n",
    "                            '08-4-LymphNode-Pisco-2022-RubenBrabenec_HealthyProject-processed.h5ad',\n",
    "                            '08-5-Thymus-Pisco-2022-RubenBrabenec_HealthyProject-processed.h5ad',\n",
    "                           '08-6-LymphNode_ImmuneCells-Teichmann-2022-RubenBrabenec_HealthyProject-processed.h5ad',\n",
    "                            '08-7-Thymus_ImmuneCells-Teichmann-2022-RubenBrabenec_HealthyProject-processed.h5ad',\n",
    "                             \n",
    "                            '09-6-Trachea-Pisco-2022-RubenBrabenec_HealthyProject-processed.h5ad',\n",
    "                            '09-9-Trachea-Han-2020-RubenBrabenec_HealthyProject-processed.h5ad',\n",
    "                                \n",
    "                            '09-1-Lung-Travaglini-2020-RubenBrabenec_HealthyProject-processed.h5ad',\n",
    "                           '09-2-Lung-Madissoon-2019-RubenBrabenec_HealthyProject-processed.h5ad',\n",
    "                           '09-3-Lung-Reyfman-2019-RubenBrabenec_HealthyProject-processed.h5ad',\n",
    "                           '09-4-Lung-Kim-2020-RubenBrabenec_HealthyProject-processed.h5ad',\n",
    "                            '09-5-Lung-Pisco-2022-RubenBrabenec_HealthyProject-processed.h5ad',\n",
    "                           '09-7-Lung-Han-2020-RubenBrabenec_HealthyProject-processed.h5ad',\n",
    "                           '09-9-Lung_ImmuneCells-Teichmann-2022-RubenBrabenec_HealthyProject-processed.h5ad',\n",
    "                                \n",
    "                            '09-8-Pleura-Han-2020-RubenBrabenec_HealthyProject-processed.h5ad',\n",
    "                            \n",
    "                            '10-1-Heart-Han-2020-RubenBrabenec_HealthyProject-processed.h5ad',\n",
    "                           '10-2_1-Heart-Teichmann-2020-RubenBrabenec_HealthyProject-processed.h5ad',\n",
    "                           '10-2_2-Heart-Teichmann-2020-RubenBrabenec_HealthyProject-processed.h5ad',\n",
    "                           '10-2_3-Heart-Teichmann-2020-RubenBrabenec_HealthyProject-processed.h5ad',\n",
    "                            '10-3-Heart-Pisco-2022-RubenBrabenec_HealthyProject-processed.h5ad',\n",
    "                             \n",
    "                            '11-2-Blood-Pisco-2022-RubenBrabenec_HealthyProject-processed.h5ad',\n",
    "                            '11-3-Vasculature-Pisco-2022-RubenBrabenec_HealthyProject-processed.h5ad',\n",
    "                            '11-4-Vasculature-Han-2020-RubenBrabenec_HealthyProject-processed.h5ad',\n",
    "                            '11-5-Blood-Han-2020-RubenBrabenec_HealthyProject-processed.h5ad',\n",
    "                            '11-6-Blood_ImmuneCells-Teichmann-2022-RubenBrabenec_HealthyProject-processed.h5ad',\n",
    "                             \n",
    "                            '12-1-BoneMarrow-NameXX-20XX-RubenBrabenec_HealthyProject-processed.h5ad',\n",
    "                            '12-3-BoneMarrow-Pisco-2022-RubenBrabenec_HealthyProject-processed.h5ad',\n",
    "                            '12-4-BoneMarrow-Han-2020-RubenBrabenec_HealthyProject-processed.h5ad',\n",
    "                            '12-5-BoneMarrow_ImmuneCells-Teichmann-2022-RubenBrabenec_HealthyProject-processed.h5ad',\n",
    "                             \n",
    "                            '13-1-Skin-Cheng-2018-RubenBrabenec_HealthyProject-processed.h5ad',\n",
    "                            '13-2-Skin-Pisco-2022-RubenBrabenec_HealthyProject-processed.h5ad',\n",
    "                            \n",
    "                            '14-1-Muscle-Pisco-2022-RubenBrabenec_HealthyProject-processed.h5ad',\n",
    "                            '14-2-Muscle-Han-2020-RubenBrabenec_HealthyProject-processed.h5ad',\n",
    "                            '14-3-Muscle_ImmuneCells-Teichmann-2022-RubenBrabenec_HealthyProject-processed.h5ad',\n",
    "                             \n",
    "                           '15-1-Kidney-Steward-2019-RubenBrabenec_HealthyProject-processed.h5ad',\n",
    "                            '15-2-Kidney-Wilson-2021-RubenBrabenec_HealthyProject-processed.h5ad',\n",
    "                            '15-3-Kidney-Pisco-2022-RubenBrabenec_HealthyProject-processed.h5ad',\n",
    "                            '15-4-Kidney-Han-2020-RubenBrabenec_HealthyProject-processed.h5ad',\n",
    "                            \n",
    "                            '16-1-Bladder-Pisco-2022-RubenBrabenec_HealthyProject-processed.h5ad',\n",
    "                            '16-2-Bladder-Han-2020-RubenBrabenec_HealthyProject-processed.h5ad',\n",
    "                            '16-3-Ureter-Han-2020-RubenBrabenec_HealthyProject-processed.h5ad',\n",
    "                             \n",
    "                            '17-1-AdrenalGland-Han-2020-RubenBrabenec_HealthyProject-processed.h5ad',\n",
    "                             \n",
    "                            '18-1-ThyroidGland-Han-2020-RubenBrabenec_HealthyProject-processed.h5ad',\n",
    "                            \n",
    "                            '20-1-Prostate-Strand-2018-RubenBrabenec_HealthyProject-processed.h5ad',\n",
    "                            '20-2-Prostate-Pisco-2022-RubenBrabenec_HealthyProject-processed.h5ad',\n",
    "                           '20-3-Prostate-Han-2020-RubenBrabenec_HealthyProject-processed.h5ad',\n",
    "                             \n",
    "                            '21-2-FallopianTube-Han-2020-RubenBrabenec_HealthyProject-processed.h5ad',\n",
    "                             \n",
    "                            '22-1-Uterus-Pisco-2022-RubenBrabenec_HealthyProject-processed.h5ad',\n",
    "                            '22-3-Uterus-Han-2020-RubenBrabenec_HealthyProject-processed.h5ad',\n",
    "                            '22-2-Uterus_Cervix-Han-2020-RubenBrabenec_HealthyProject-processed.h5ad',\n",
    "                            '22-4-Placenta-Han-2020-RubenBrabenec_HealthyProject-processed.h5ad',\n",
    "                            \n",
    "                            '23-1-Breast-Nakshatri-2019-RubenBrabenec_HealthyProject-processed.h5ad',\n",
    "                           '23-2-Breast-Pisco-2022-RubenBrabenec_HealthyProject-processed.h5ad',\n",
    "                             \n",
    "                            '24-1-AdiposeTissue-Pisco-2022-RubenBrabenec_HealthyProject-processed.h5ad',\n",
    "                            '24-3-AdiposeTissue-Han-2020-RubenBrabenec_HealthyProject-processed.h5ad',\n",
    "                            \n",
    "                            '25-1-SalivaryGland-Pisco-2022-RubenBrabenec_HealthyProject-processed.h5ad',\n",
    "                             \n",
    "                            '26-1-Tongue-Pisco-2022-RubenBrabenec_HealthyProject-processed.h5ad',\n",
    "                             \n",
    "                            '99-2-MultipleOrgans_TCells-Sims-2019-RubenBrabenec_HealthyProject-processed.h5ad',\n",
    "                            \n",
    "                            'Ill-001-Brain-Cobos-2020-Alzheimer-AD-RubenBrabenec_IllProject-processed.h5ad',\n",
    "                           'Ill-002-Brain-Kampmann-2021-Alzheimer-AD-RubenBrabenec_IllProject-processed.h5ad',\n",
    "                            'Ill-003-Brain-Olah-2020-Alzheimer-AD-RubenBrabenec_IllProject-processed.h5ad',\n",
    "                            'Ill-004-Brain-Spielmann-2022-Parkinson-MP-RubenBrabenec_IllProject-processed.h5ad',\n",
    "                            'Ill-005_1-Brain-Lein-2022-Dementia-AD-RubenBrabenec_IllProject-processed.h5ad',\n",
    "                            'Ill-005_2-Brain-Lein-2022-Dementia-AD-RubenBrabenec_IllProject-processed.h5ad',\n",
    "                           'Ill-005_3-Brain-Lein-2022-Dementia-AD-RubenBrabenec_IllProject-processed.h5ad',\n",
    "                            'Ill-005_4-Brain-Lein-2022-Dementia-AD-RubenBrabenec_IllProject-processed.h5ad'\n",
    "                           ]"
   ]
  },
  {
   "cell_type": "code",
   "execution_count": null,
   "metadata": {},
   "outputs": [],
   "source": [
    "# List of essential observation columns to retain during data cleaning\n",
    "important_obs = ['Organ', 'Organ_Specific', 'Dataset', 'InternDatasetNumber', 'Dataset_status', \n",
    "                 'celltype', 'sub_celltype', 'Malignant', 'Patient', 'Patient_Number', 'age',\n",
    "                 'sex', 'ethnicity', 'health_status', 'original_celltype_1', 'original_celltype_2', 'original_celltype_3']\n",
    "\n",
    "# Function to clean the AnnData object by retaining specific metadata and removing unnecessary attributes\n",
    "def clean_adata(adata, important_obs):\n",
    "    \"\"\"\n",
    "    Cleans an AnnData object by retaining only specified observation columns (obs)\n",
    "    and removing unused variables and layers.\n",
    "\n",
    "    Parameters:\n",
    "    adata : AnnData\n",
    "        The input AnnData object to clean.\n",
    "    important_obs : list\n",
    "        A list of observation column names that should be retained.\n",
    "\n",
    "    Returns:\n",
    "    AnnData\n",
    "        The cleaned AnnData object.\n",
    "    \"\"\"\n",
    "    \n",
    "    # Ensure unique gene names and cell identifiers\n",
    "    adata.var_names_make_unique()\n",
    "    adata.obs_names_make_unique()\n",
    "\n",
    "    # Retain only the specified observation columns in the .obs dataframe\n",
    "    adata.obs = adata.obs.loc[:, adata.obs.columns.isin(important_obs)]\n",
    "\n",
    "    # Remove unnecessary components such as variable attributes, embeddings, and layers\n",
    "    adata.var.drop(adata.var.columns.difference(['genes']), axis=1, inplace=True)\n",
    "    del adata.obsm\n",
    "    del adata.layers\n",
    "\n",
    "    return adata\n",
    "\n",
    "# Process each dataset in the list of healthy datasets\n",
    "for i, dataset in enumerate(list_of_healthy_datasets):\n",
    "    print(dataset)  # Log the dataset being processed\n",
    "    \n",
    "    # Load the AnnData object from file\n",
    "    adata = sc.read(path + dataset)\n",
    "    \n",
    "    # Clean the loaded AnnData object by retaining only relevant metadata\n",
    "    adata = clean_adata(adata, important_obs)\n",
    "    \n",
    "    # Concatenate the cleaned AnnData objects across datasets\n",
    "    if i == 0:\n",
    "        adata_healthy = adata.copy()  # Initialize with the first dataset\n",
    "    else:\n",
    "        adata_healthy = adata_healthy.concatenate(adata, join='outer', index_unique=\"_\")\n",
    "\n",
    "    # Free memory after each iteration\n",
    "    del adata\n",
    "    process = psutil.Process(os.getpid())\n",
    "\n",
    "    # Output information about the current size of the concatenated AnnData object\n",
    "    print('Size of concatenated AnnData object (GB): ', sys.getsizeof(adata_healthy) / (1024 * 1024 * 1024.0))\n",
    "    print('Current RAM usage (GB): ', process.memory_info().rss / (1024 * 1024 * 1024.0))\n",
    "    print('Total number of cells in the concatenated dataset: ', len(adata_healthy.obs))\n",
    "    print('__________________________________________________________________')\n"
   ]
  },
  {
   "cell_type": "code",
   "execution_count": null,
   "metadata": {},
   "outputs": [],
   "source": [
    "# Convert string-type observations to categorical for optimized storage and faster access\n",
    "adata_healthy.strings_to_categoricals()"
   ]
  },
  {
   "cell_type": "code",
   "execution_count": null,
   "metadata": {},
   "outputs": [],
   "source": [
    "adata_healthy"
   ]
  },
  {
   "cell_type": "code",
   "execution_count": null,
   "metadata": {},
   "outputs": [],
   "source": [
    "import scanpy as sc\n",
    "import scvi\n",
    "\n",
    "# Load the AnnData object containing the healthy dataset\n",
    "# The dataset is expected to be preprocessed and stored in an h5ad file\n",
    "adata_healthy = sc.read_h5ad(\"adata_healthy.h5ad\")\n",
    "\n",
    "# Configure the AnnData object for scVI\n",
    "# The 'InternDatasetNumber' is used as the batch key, 'celltype' as the label key,\n",
    "# and 'Patient' is provided as an additional categorical covariate\n",
    "scvi.model.SCVI.setup_anndata(\n",
    "    adata_healthy,\n",
    "    batch_key='InternDatasetNumber',      # Batch variable across datasets\n",
    "    labels_key='celltype',                # Cell type as the label\n",
    "    categorical_covariate_keys=['Patient'] # Additional covariate: patient ID\n",
    ")\n",
    "\n",
    "# Initialize the scVI model using the configured AnnData object\n",
    "model = scvi.model.SCVI(adata_healthy)\n",
    "\n",
    "# Train the scVI model on the data\n",
    "model.train()\n",
    "\n",
    "# Extract the latent representation learned by scVI and store it in the 'obsm' slot\n",
    "adata_healthy.obsm[\"X_scVI\"] = model.get_latent_representation()\n",
    "\n",
    "# Perform dimensionality reduction using UMAP based on the scVI latent space\n",
    "sc.pp.neighbors(adata_healthy, use_rep=\"X_scVI\")\n",
    "sc.tl.umap(adata_healthy)\n",
    "\n",
    "# Visualize the UMAP embedding, colored by 'InternDatasetNumber', 'celltype', and 'Patient'\n",
    "sc.pl.umap(adata_healthy, color=[\"InternDatasetNumber\", \"celltype\", \"Patient\"])\n",
    "\n",
    "# Save the latent representation as matrix data, save the original data in a new layer before overwriting\n",
    "adata_healthy.layers[\"original_X\"] = adata_healthy.X.copy()  # Backup the original X matrix\n",
    "# Store the scVI latent representation in the main data matrix 'X'\n",
    "adata_healthy.X = adata_healthy.obsm[\"X_scVI\"].copy()\n"
   ]
  },
  {
   "cell_type": "markdown",
   "metadata": {
    "jp-MarkdownHeadingCollapsed": true,
    "tags": []
   },
   "source": [
    "## Counting Amount of Cells"
   ]
  },
  {
   "cell_type": "code",
   "execution_count": null,
   "metadata": {},
   "outputs": [],
   "source": [
    "# Calculate the number of datasets in the list of healthy datasets.\n",
    "# Note: The total count is 102 datasets, as some of the original datasets were split into smaller parts due to their large size.\n",
    "len(list_of_healthy_datasets)"
   ]
  },
  {
   "cell_type": "code",
   "execution_count": null,
   "metadata": {},
   "outputs": [],
   "source": [
    "# List of relevant columns from adata.obs to extract key metadata for each cell\n",
    "important_obs = ['Organ', 'Organ_Specific', 'Dataset', 'InternDatasetNumber', 'Dataset_status', \n",
    "                 'celltype', 'sub_celltype', 'Malignant', 'Patient', 'Patient_Number', 'age',\n",
    "                 'sex', 'ethnicity', 'health_status', 'original_celltype_1', 'original_celltype_2', \n",
    "                 'original_celltype_3']\n",
    "\n",
    "# Initialize an empty DataFrame to store cell information across all datasets\n",
    "all_cells_data_df = pd.DataFrame()\n",
    "\n",
    "# Function to clean the AnnData object by selecting only the important columns from adata.obs\n",
    "def clean_adata_obs(adata, important_obs):\n",
    "    # Filter the observation data (adata.obs) to keep only the relevant columns\n",
    "    cleaned_obs = adata.obs.loc[:, adata.obs.columns.isin(important_obs)]\n",
    "    return cleaned_obs\n",
    "\n",
    "# Iterate through each dataset in the list of healthy datasets\n",
    "for i, dataset in enumerate(list_of_healthy_datasets):\n",
    "    # Log the dataset being processed\n",
    "    print(f\"Processing dataset {i+1}: {dataset}\")\n",
    "    \n",
    "    # Load the AnnData object from the specified path\n",
    "    adata = sc.read(path + dataset)\n",
    "    \n",
    "    # Clean the AnnData object to retain only relevant information in adata.obs\n",
    "    cleaned_obs = clean_adata_obs(adata, important_obs)\n",
    "    \n",
    "    # Add the dataset name as a new column to track which dataset the cells came from\n",
    "    cleaned_obs['Dataset'] = dataset\n",
    "    \n",
    "    # Append the cleaned data from this dataset to the overall DataFrame\n",
    "    all_cells_data_df = pd.concat([all_cells_data_df, cleaned_obs], axis=0)\n",
    "    \n",
    "    # Release memory associated with the AnnData object after processing\n",
    "    del adata\n",
    "    \n",
    "    # Check and log current memory usage in GB after processing each dataset\n",
    "    process = psutil.Process(os.getpid())\n",
    "    print(f\"Memory usage after processing (GB): {process.memory_info().rss / (1024 * 1024 * 1024.0):.2f}\")\n",
    "    \n",
    "    # Log the current number of cells processed so far\n",
    "    print(f\"Total number of cells processed: {len(all_cells_data_df)}\")\n",
    "    print('__________________________________________________________________')"
   ]
  },
  {
   "cell_type": "code",
   "execution_count": null,
   "metadata": {},
   "outputs": [],
   "source": [
    "all_cells_data_df[:3]"
   ]
  },
  {
   "cell_type": "code",
   "execution_count": null,
   "metadata": {},
   "outputs": [],
   "source": [
    "all_cells_data_df.to_csv('cell_counts_per_dataset_and_organ.csv', index=True)"
   ]
  },
  {
   "cell_type": "code",
   "execution_count": null,
   "metadata": {},
   "outputs": [],
   "source": [
    "import seaborn as sns\n",
    "\n",
    "# List of relevant columns from the DataFrame for which we will plot distributions\n",
    "important_obs = ['Organ'] \n",
    "\n",
    "# Set modern plot styles for better presentation\n",
    "sns.set(style=\"whitegrid\", context=\"talk\")  # Larger context for a more modern look\n",
    "sns.set_palette(\"muted\")  # Muted color palette for clean visuals\n",
    "\n",
    "# Adjust plot layout and appearance for publication-quality figures\n",
    "rcParams['axes.titleweight'] = 'bold'  # Bold font for axis titles\n",
    "rcParams['axes.labelweight'] = 'bold'  # Bold font for axis labels\n",
    "rcParams['axes.titlepad'] = 20  # Space between the title and the plot\n",
    "rcParams['axes.labelpad'] = 10  # Space between axis labels and the plot\n",
    "rcParams['xtick.major.pad'] = 10  # Padding for x-axis tick labels\n",
    "rcParams['ytick.major.pad'] = 10  # Padding for y-axis tick labels\n",
    "\n",
    "# Initialize an empty DataFrame to store value counts for CSV export\n",
    "all_value_counts = pd.DataFrame()\n",
    "\n",
    "def plot_column_distribution(df, column_name):\n",
    "    \"\"\"\n",
    "    Plots a sorted bar chart for a specific column in the DataFrame\n",
    "    and saves the distribution plot and value counts as CSV.\n",
    "    \"\"\"\n",
    "    plt.figure(figsize=(12, 8))  # Increase figure size for readability\n",
    "    \n",
    "    # Calculate value counts and sort them in descending order\n",
    "    value_counts = df[column_name].value_counts().sort_values(ascending=False)\n",
    "    \n",
    "    # Plot the value counts with bars, adding spacing and setting bar width\n",
    "    ax = sns.barplot(x=value_counts.values, y=value_counts.index, palette='muted', \n",
    "                     edgecolor='0.2', linewidth=2.5, dodge=False, width=0.7)\n",
    "    \n",
    "    # Add count labels to the end of each bar with some space from the bar\n",
    "    for i, (count, label) in enumerate(zip(value_counts.values, value_counts.index)):\n",
    "        ax.text(count + 0.05 * count, i, f'{count:,}', va='center', fontsize=12, color='black', weight='bold')\n",
    "    \n",
    "    # Set plot title and axis labels with custom font sizes and padding\n",
    "    plt.title(f'Distribution of {column_name}', fontsize=20, fontweight='bold', pad=30)\n",
    "    plt.xlabel('Absolute Count', fontsize=16, labelpad=15)\n",
    "    plt.ylabel(column_name, fontsize=16, labelpad=15)\n",
    "    plt.xticks(fontsize=14)\n",
    "    plt.yticks(fontsize=14)\n",
    "    \n",
    "    # Ensure x-axis shows numbers in standard format (no scientific notation)\n",
    "    ax.xaxis.set_major_formatter(mticker.StrMethodFormatter('{x:,.0f}'))\n",
    "    \n",
    "    # Adjust layout to provide more space between bars and edges\n",
    "    plt.subplots_adjust(left=0.15, right=0.9, top=0.9, bottom=0.1)\n",
    "    \n",
    "    # Remove top and right spines for cleaner visuals\n",
    "    sns.despine(left=True, bottom=True)\n",
    "    \n",
    "    # Save the plot as a PNG file with high resolution\n",
    "    plt.tight_layout()\n",
    "    plt.savefig(f'{column_name}_distribution.png', dpi=300)\n",
    "    plt.show()\n",
    "    \n",
    "    # Save the value counts as a DataFrame and export as CSV\n",
    "    value_counts_df = value_counts.reset_index()\n",
    "    value_counts_df.columns = [column_name, 'Count']  # Rename columns for clarity\n",
    "    \n",
    "    # Export the value counts to a CSV file\n",
    "    value_counts_df.to_csv(f'{column_name}_value_counts.csv', index=False)\n",
    "    \n",
    "    # Return the DataFrame for potential concatenation with other columns\n",
    "    return value_counts_df\n",
    "\n",
    "# Apply the plotting function to each column in `important_obs`\n",
    "for column in important_obs:\n",
    "    if column in all_cells_data_df.columns:\n",
    "        value_counts_df = plot_column_distribution(all_cells_data_df, column)\n",
    "        \n",
    "        # Concatenate the new value counts with the overall DataFrame for CSV export\n",
    "        all_value_counts = pd.concat([all_value_counts, value_counts_df], axis=1)\n",
    "\n",
    "# Save the combined value counts of all columns as a single CSV\n",
    "all_value_counts.to_csv('all_columns_value_counts.csv', index=False)\n",
    "\n",
    "print(\"Plots and CSV files have been successfully saved.\")\n"
   ]
  },
  {
   "cell_type": "code",
   "execution_count": null,
   "metadata": {},
   "outputs": [
    {
     "name": "stdout",
     "output_type": "stream",
     "text": [
      "Anzahl der einzigartigen Patienten/Spender: 344\n"
     ]
    }
   ],
   "source": [
    "# Define the column that identifies patients in the dataset\n",
    "patient_column = 'Patient'\n",
    "\n",
    "def count_unique_patients(df, patient_column):\n",
    "    \n",
    "    # Count the number of unique patients\n",
    "    unique_patients = df[patient_column].nunique()\n",
    "    \n",
    "    # Output the count of unique patients\n",
    "    print(f'Number of unique patients/donors: {unique_patients}')\n",
    "    \n",
    "    return unique_patients\n"
   ]
  },
  {
   "cell_type": "markdown",
   "metadata": {
    "tags": []
   },
   "source": [
    "# ???"
   ]
  },
  {
   "cell_type": "markdown",
   "metadata": {},
   "source": [
    "# Analysis Tumor Data"
   ]
  },
  {
   "cell_type": "code",
   "execution_count": null,
   "metadata": {},
   "outputs": [],
   "source": [
    "# Load the tumor AnnData object\n",
    "# The dataset is assumed to be preprocessed and stored in an h5ad file\n",
    "adata_tumor = sc.read(Tumor_h5ad)\n",
    "\n",
    "# Store gene names in the variable (var) metadata for easier reference\n",
    "adata_tumor.var['genes'] = adata_tumor.var.index\n",
    "\n",
    "# Subset the data to include only the genes of interest (final_druggable genes)\n",
    "# This creates a mask to select only genes that are in the 'final_druggable' list\n",
    "ix = np.isin(adata_tumor.var['genes'], genes)\n",
    "adata_tumor = adata_tumor[:, ix].copy()\n",
    "\n",
    "# Filter observation (obs) columns to retain only those considered important\n",
    "# Columns not in 'important_obs' are removed from the obs metadata\n",
    "adata_obs_list = adata_tumor.obs.columns.tolist()\n",
    "for obs_value in adata_obs_list:\n",
    "    if obs_value not in important_obs:\n",
    "        del adata_tumor.obs[obs_value]\n",
    "\n",
    "# Convert string-type observation columns to categorical\n",
    "adata_tumor.strings_to_categoricals()"
   ]
  },
  {
   "cell_type": "code",
   "execution_count": null,
   "metadata": {},
   "outputs": [],
   "source": [
    "adata_tumor.obs['celltype'].value_counts()"
   ]
  },
  {
   "cell_type": "code",
   "execution_count": null,
   "metadata": {},
   "outputs": [],
   "source": [
    "adata_tumor.obs['Patient'].value_counts()"
   ]
  },
  {
   "cell_type": "code",
   "execution_count": null,
   "metadata": {},
   "outputs": [],
   "source": [
    "adata_tumor.obs['original_celltype_1'].value_counts()"
   ]
  },
  {
   "cell_type": "code",
   "execution_count": null,
   "metadata": {},
   "outputs": [],
   "source": [
    "# Define a list of genes of interest for further analysis\n",
    "gene_list_2 = ['NTRK1']"
   ]
  },
  {
   "cell_type": "code",
   "execution_count": null,
   "metadata": {},
   "outputs": [],
   "source": [
    "sc.pl.dotplot(adata_tumor, gene_list_2, groupby=['Patient'], dendrogram=False,\n",
    "              vmax=0.01, vmin=0.00001, swap_axes=True, dot_min=0.00001, dot_max=0.01, use_raw=False)"
   ]
  },
  {
   "cell_type": "code",
   "execution_count": null,
   "metadata": {},
   "outputs": [],
   "source": [
    "# Subset the AnnData object to include only malignant cells\n",
    "adata_malignant = adata_tumor[adata_tumor.obs['Malignant'] == 'Malignant']\n",
    "\n",
    "\n",
    "sc.pl.dotplot(adata_malignant, gene_list_2, groupby=['Patient'], dendrogram=False,\n",
    "              vmax=0.01, vmin=0.00001, swap_axes=True, dot_min=0.00001, dot_max=0.01, use_raw=False)\n",
    "\n",
    "sc.pl.dotplot(adata_malignant, gene_list_2, groupby=['original_celltype_1'], dendrogram=False,\n",
    "              vmax=0.01, vmin=0.00001, swap_axes=True, dot_min=0.00001, dot_max=0.01, use_raw=False)"
   ]
  },
  {
   "cell_type": "code",
   "execution_count": null,
   "metadata": {},
   "outputs": [],
   "source": [
    "adata_malignant.obs['celltype'].value_counts()"
   ]
  },
  {
   "cell_type": "code",
   "execution_count": null,
   "metadata": {},
   "outputs": [],
   "source": [
    "adata_malignant.obs['Patient'].value_counts()"
   ]
  },
  {
   "cell_type": "code",
   "execution_count": null,
   "metadata": {},
   "outputs": [],
   "source": [
    "adata_malignant.obs['original_celltype_1'].value_counts()"
   ]
  },
  {
   "cell_type": "code",
   "execution_count": null,
   "metadata": {},
   "outputs": [],
   "source": [
    "# Subset the AnnData object to include only cells classified as 'HSC' or 'HSC-like'\n",
    "adata_hsc = adata_tumor[adata_tumor.obs['original_celltype_1'].isin(['HSC', 'HSC-like'])]\n",
    "\n",
    "sc.pl.dotplot(adata_hsc, gene_list_2, groupby=['Patient'], dendrogram=False,\n",
    "              vmax=0.1, vmin=0.00001, swap_axes=True, dot_min=0.00001, dot_max=0.1, use_raw=False)"
   ]
  },
  {
   "cell_type": "code",
   "execution_count": null,
   "metadata": {},
   "outputs": [],
   "source": [
    "adata_hsc.obs['celltype'].value_counts()"
   ]
  },
  {
   "cell_type": "code",
   "execution_count": null,
   "metadata": {},
   "outputs": [],
   "source": [
    "adata_hsc.obs['Patient'].value_counts()"
   ]
  },
  {
   "cell_type": "code",
   "execution_count": null,
   "metadata": {},
   "outputs": [],
   "source": [
    "adata_hsc.obs['original_celltype_1'].value_counts()"
   ]
  },
  {
   "cell_type": "markdown",
   "metadata": {},
   "source": [
    "## Plotting Number of Cells per Patient by Cell Type"
   ]
  },
  {
   "cell_type": "code",
   "execution_count": 114,
   "metadata": {},
   "outputs": [
    {
     "data": {
      "image/png": "[encoded data removed]",
      "text/plain": [
       "<Figure size 2800x2000 with 1 Axes>"
      ]
     },
     "metadata": {
      "image/png": {
       "height": 1967,
       "width": 2648
      }
     },
     "output_type": "display_data"
    }
   ],
   "source": [
    "### Plotting the Number of Cells per Patient by Cell Type\n",
    "\n",
    "# Define clusters and their corresponding cell types for grouping\n",
    "cluster_mapping = {\n",
    "    'T cells': ['T'],\n",
    "    'Cytotoxic T cells': ['CTL'],\n",
    "    'NK cells': ['NK'],\n",
    "    'HSCs': ['HSC', 'HSC-like'],\n",
    "    'Prog': ['Prog', 'Prog-like'],\n",
    "    'GMP': ['GMP', 'GMP-like'],\n",
    "    'ProMono': ['ProMono', 'ProMono-like'],\n",
    "    'EarlyEry': ['earlyEry'],\n",
    "    'ProB cells': ['ProB'],\n",
    "    'Mono': ['Mono', 'Mono-like'],\n",
    "    'B cells': ['B'],\n",
    "    'cDC': ['cDC', 'cDC-like'],\n",
    "    'pDC': ['pDC'],\n",
    "    'LateEry': ['lateEry'],\n",
    "    'Plasma cells': ['Plasma']\n",
    "}\n",
    "\n",
    "# Define a color palette based on the cell types\n",
    "color_palette = {\n",
    "    'T cells': '#228B22',\n",
    "    'Cytotoxic T cells': '#32CD32',\n",
    "    'NK cells': '#6B8E23',\n",
    "    'HSCs': '#000080',\n",
    "    'Prog': '#4169E1',\n",
    "    'GMP': '#4682B4',\n",
    "    'ProMono': '#1E90FF',\n",
    "    'EarlyEry': '#87CEFA',\n",
    "    'ProB cells': '#D3D3D3',\n",
    "    'Mono': '#DAA520',\n",
    "    'B cells': '#FFD700',\n",
    "    'cDC': '#FF8C00',\n",
    "    'pDC': '#FF4500',\n",
    "    'LateEry': '#FF6347',\n",
    "    'Plasma cells': '#FF0000'\n",
    "}\n",
    "\n",
    "# Assign colors to cell types based on clusters\n",
    "cell_type_colors = {}\n",
    "for cluster, cell_types in cluster_mapping.items():\n",
    "    for cell_type in cell_types:\n",
    "        cell_type_colors[cell_type] = color_palette[cluster]\n",
    "\n",
    "# Assign the colors to the cell types in adata_tumor\n",
    "adata_tumor.obs['original_celltype_1'] = adata_tumor.obs['original_celltype_1'].astype('category')\n",
    "adata_tumor.uns['original_celltype_1_colors'] = [cell_type_colors[cell_type] for cell_type in adata_tumor.obs['original_celltype_1'].cat.categories]\n",
    "\n",
    "# Group by 'Patient' and 'original_celltype_1' and count the number of cells\n",
    "cell_counts = adata_tumor.obs.groupby(['Patient', 'original_celltype_1']).size().unstack(fill_value=0)\n",
    "\n",
    "# Set the plot style\n",
    "sns.set(style=\"white\")  # No gridlines for cleaner visuals\n",
    "\n",
    "# Plot the stacked bar chart\n",
    "fig, ax = plt.subplots(figsize=(14, 10))\n",
    "colors = [cell_type_colors[cell_type] for cell_type in cell_counts.columns]\n",
    "cell_counts.plot(kind='bar', stacked=True, color=colors, ax=ax)\n",
    "\n",
    "# Customize the plot for a modern look\n",
    "plt.xlabel('Patient', fontsize=14, fontweight='bold')\n",
    "plt.ylabel('Number of Cells', fontsize=14, fontweight='bold')\n",
    "plt.title('Cell Distribution per Patient by Cell Type', fontsize=16, fontweight='bold')\n",
    "\n",
    "# Adjust the legend for better readability\n",
    "handles, labels = ax.get_legend_handles_labels()\n",
    "new_labels = []\n",
    "seen_clusters = set()\n",
    "for label in labels:\n",
    "    for cluster, cell_types in cluster_mapping.items():\n",
    "        if label in cell_types and cluster not in seen_clusters:\n",
    "            new_labels.append(cluster)\n",
    "            seen_clusters.add(cluster)\n",
    "ax.legend(handles, new_labels, title='Cluster', bbox_to_anchor=(1.25, 1), loc='upper left')  # Place legend outside plot\n",
    "\n",
    "# Customize x and y ticks\n",
    "plt.xticks(fontsize=12, rotation=45)\n",
    "plt.yticks(fontsize=12)\n",
    "sns.despine()\n",
    "\n",
    "# Save the plot as a high-resolution PNG\n",
    "plt.tight_layout()\n",
    "plt.savefig('cell_distribution_plot.png', dpi=300)\n",
    "\n",
    "# Show the plot\n",
    "plt.show()"
   ]
  },
  {
   "cell_type": "code",
   "execution_count": null,
   "metadata": {},
   "outputs": [],
   "source": [
    "# Group by 'Patient' and 'original_celltype_1' to count the number of cells for each combination\n",
    "cell_counts_table = adata_tumor.obs.groupby(['Patient', 'original_celltype_1']).size().unstack(fill_value=0)\n",
    "cell_counts_table.to_csv('cell_counts_per_patient.csv')"
   ]
  },
  {
   "cell_type": "markdown",
   "metadata": {},
   "source": [
    "# Analysis per Gene: Heatmap by Cell Type and Organ"
   ]
  },
  {
   "cell_type": "code",
   "execution_count": null,
   "metadata": {},
   "outputs": [],
   "source": [
    "print(len(adata_healthy.obs['Organ'].value_counts()))\n",
    "adata_healthy.obs['Organ'].value_counts()"
   ]
  },
  {
   "cell_type": "code",
   "execution_count": null,
   "metadata": {},
   "outputs": [],
   "source": [
    "organs = [\n",
    "    # Immune cells\n",
    "    # Bone Marrow\n",
    "    # Lymph Node\n",
    "    # Blood & Vascular \n",
    "    # Brain\n",
    "    # Eye\n",
    "    # Thyroid Gland\n",
    "    # Trachea\n",
    "    # Lung\n",
    "    # Heart\n",
    "    # Spleen\n",
    "    # Liver\n",
    "    # Gall Bladder\n",
    "    # Salivary Gland\n",
    "    # Tongue\n",
    "    # Oesophagus\n",
    "    # Stomach\n",
    "    # Gut (Small Intestine) & Gut (Colon)\n",
    "    # Pancreas\n",
    "    # Omentum\n",
    "    # Adrenal Gland\n",
    "    # Kidney\n",
    "    # Bladder\n",
    "    # Prostate\n",
    "    # Uterus\n",
    "    # Fallopian Tube\n",
    "    # Breast\n",
    "    # Adipose Tissue\n",
    "    # Muscle\n",
    "    # Skin\n",
    "    # Others\n",
    "]"
   ]
  },
  {
   "cell_type": "markdown",
   "metadata": {},
   "source": [
    "## Reihenfolge Zellen (cells)"
   ]
  },
  {
   "cell_type": "code",
   "execution_count": null,
   "metadata": {},
   "outputs": [],
   "source": [
    "adata_healthy.obs['celltype'] = adata_healthy.obs['celltype'].cat.rename_categories({\n",
    "    'Oviductal epithelial  cells': 'Oviductal epithelial cells'\n",
    "})"
   ]
  },
  {
   "cell_type": "code",
   "execution_count": null,
   "metadata": {},
   "outputs": [],
   "source": [
    "print(len(adata_healthy.obs['celltype'].value_counts()))\n",
    "adata_healthy.obs['celltype'].value_counts()"
   ]
  },
  {
   "cell_type": "code",
   "execution_count": null,
   "metadata": {},
   "outputs": [],
   "source": [
    "# Not all cells were included in this example\n",
    "cells = [\n",
    "    # Immune cells\n",
    "    \"B cells\",\n",
    "    \"Basophil cells\",\n",
    "    \"Common myeloid progenitor cells\",\n",
    "    \"Dendritic cells\",\n",
    "    \"Granulocyte cells\",\n",
    "    \"Innate lymphoid cells\",\n",
    "    \"Leukocytes\",\n",
    "    \"Lymphocytes\",\n",
    "    \"Macrophages\",\n",
    "    \"Mast cells\",\n",
    "    \"Monocytes\",\n",
    "    \"Myeloid cells\",\n",
    "    \"Neutrophils\",\n",
    "    \"NK cells\",\n",
    "    \"Plasma cells\",\n",
    "    \"T cells\",\n",
    "\n",
    "    # Bone Marrow\n",
    "    \"Hematopoietic stem cells\",\n",
    "    \"Erythroid progenitor cells\",\n",
    "    # Lymph Node\n",
    "    #\"Lymphocytes\",\n",
    "    \"Lymphatic endothelial cells\",\n",
    "\n",
    "    # Blood & Vascular \n",
    "    \"Endothelial cells\",\n",
    "    \"Erythroid cells\",\n",
    "    \"Thrombocytes\",\n",
    "     \"Vascular and leptomeningeal cells\",\n",
    "    \"Pericytes\",\n",
    "\n",
    "    # Brain\n",
    "    \"Astrocytes\",\n",
    "    \"Cerebellar epithelial cells\",\n",
    "    \"Glial cells\",\n",
    "    \"Microglial cells\",\n",
    "    \"Neurons\",\n",
    "    \"Oligodendrocytes\",\n",
    "    \"Radial glial progenitor cells\",\n",
    "    \n",
    "\n",
    "    # Eye\n",
    "    \"Conjunctival epithelial cells\",\n",
    "    \"Corneal epithelial cells\",\n",
    "    \"Keratocytes\",\n",
    "    \"Lacrimal sac epithelial cells\",\n",
    "    \"Retinal photoreceptor cells\",\n",
    "    \"Retinal pigment epithelial cells\",\n",
    "    \"Retinal stem cells\",\n",
    "\n",
    "    # Thyroid Gland\n",
    "    \"Thyroid follicular cells\",\n",
    "\n",
    "    # Trachea & Lung\n",
    "    \"Alveolar cells\",\n",
    "    \"Airway epithelial cells\",\n",
    "    \"Ciliary pigment epithelial cells\",\n",
    "\n",
    "    # Heart\n",
    "    \"Cardiomyocytes\",\n",
    "\n",
    "    # Spleen\n",
    "\n",
    "    # Liver\n",
    "    \"Cholangiocytes\",\n",
    "    \"Hepatocytes\",\n",
    "\n",
    "    # Gall Bladder\n",
    "    \"Gall bladder epithelial cells\",\n",
    "\n",
    "    # Salivary Gland\n",
    "    \"Salivary acinar gland cells\",\n",
    "    \"Salivary duct cells\",\n",
    "    \"Salivary gland cells\",\n",
    "\n",
    "    # Tongue\n",
    "    \"Tongue epithelial cells\",\n",
    "\n",
    "    # Oesophagus\n",
    "    \"Oesophageal epithelial cells\",\n",
    "\n",
    "    # Stomach\n",
    "    \"Gastric chief cells\",\n",
    "    \"Gastric epithelial cells\",\n",
    "    \"Gastric parietal cells\",\n",
    "    \"Gastric pit cells\",\n",
    "    \"Gastric XA-like cells\",\n",
    "\n",
    "    # Gut (Small Intestine) & Gut (Colon)\n",
    "    \"Intestinal epithelial cells\",\n",
    "    \"Intestinal secretory cells\",\n",
    "    \"Intestinal stem cells\",\n",
    "\n",
    "    # Pancreas\n",
    "    \"Pancreatic acinar cells\",\n",
    "    \"Pancreatic ductal cells\",\n",
    "    \"Pancreatic endocrine cells\",\n",
    "    \"Pancreatic stellate cells\",\n",
    "\n",
    "    # Omentum\n",
    "    \"Unknown\",\n",
    "\n",
    "    # Adrenal Gland\n",
    "    \"Chromaffin cell\",\n",
    "    \"Intra-adrenal chromoblasts\",\n",
    "    \"Intra-adrenal MT high cells\",\n",
    "    \"Zona fasciculata cells\",\n",
    "\n",
    "    # Kidney\n",
    "    \"Collecting duct system cells\",\n",
    "    \"Podocytes\",\n",
    "    \"Tubule cells\",\n",
    "\n",
    "    # Bladder\n",
    "    \"Urothelial cells\",\n",
    "\n",
    "    # Prostate\n",
    "    \"Prostate epithelium cells\",\n",
    "\n",
    "    # Uterus\n",
    "    \"Epithelial uterus cells\",\n",
    "    \"Myometrial uterus cells\",\n",
    "\n",
    "    # Fallopian Tube\n",
    "    \"Oviductal epithelial cells\",\n",
    "\n",
    "    # Breast\n",
    "    \"Mammary endocrine cells\",\n",
    "    \"Mammary epithelial gland cells\",\n",
    "    \"Mammary progenitor cells\",\n",
    "\n",
    "    # Adipose Tissue\n",
    "    \"Adipocytes\",\n",
    "\n",
    "    # Muscle\n",
    "    \"Skeletal muscle cells\",\n",
    "    \"Skeletal satellite cells\",\n",
    "    \"Tendon cells\",\n",
    "\n",
    "    # Skin\n",
    "    \"Basal cells\",\n",
    "    \"Keratinocytes\",\n",
    "    \"Melanocytes\",\n",
    "\n",
    "    # Others\n",
    "    \"Ectodermal cells\",\n",
    "    \"Fibroblast cells\",\n",
    "    \"Mesothelial cells\",\n",
    "    \"Mucosal squamous cells\",\n",
    "    \"Mesenchymal stem cells\",\n",
    "    \"Mesenchymal stromal cells\",\n",
    "    \"Multiciliated cells\",\n",
    "    \"Myofibroblast cells\",\n",
    "    \"Secretory cells\",\n",
    "    \"Smooth muscle cells\",\n",
    "    \"Sperm cells\"\n",
    "   \n",
    "]"
   ]
  },
  {
   "cell_type": "code",
   "execution_count": null,
   "metadata": {},
   "outputs": [],
   "source": [
    "for i in adata_healthy.obs['celltype'].cat.categories:\n",
    "    if i in cells:\n",
    "        u =0\n",
    "    else:\n",
    "        print(i)"
   ]
  },
  {
   "cell_type": "code",
   "execution_count": null,
   "metadata": {},
   "outputs": [],
   "source": [
    "for i in cells:\n",
    "    if i in adata_healthy.obs['celltype'].cat.categories:\n",
    "        u =0\n",
    "    else:\n",
    "        print(i)"
   ]
  },
  {
   "cell_type": "code",
   "execution_count": null,
   "metadata": {},
   "outputs": [],
   "source": [
    "# Set to track seen elements\n",
    "seen = set()\n",
    "# List to track duplicates\n",
    "duplicates = []\n",
    "\n",
    "# Iterate through the cells list\n",
    "for cell in cells:\n",
    "    # If the cell is already in seen, it's a duplicate\n",
    "    if cell in seen:\n",
    "        duplicates.append(cell)\n",
    "    else:\n",
    "        seen.add(cell)\n",
    "\n",
    "# Output the duplicates\n",
    "print(\"Duplicate values:\", duplicates)"
   ]
  },
  {
   "cell_type": "markdown",
   "metadata": {},
   "source": [
    "## Reihenfolge Datasets (datasets)"
   ]
  },
  {
   "cell_type": "code",
   "execution_count": null,
   "metadata": {},
   "outputs": [],
   "source": [
    "print(len(adata_healthy.obs['Dataset'].value_counts()))\n",
    "adata_healthy.obs['Dataset'].value_counts()"
   ]
  },
  {
   "cell_type": "code",
   "execution_count": null,
   "metadata": {},
   "outputs": [],
   "source": [
    "# Not all datasets were included in this example\n",
    "datasets = [\n",
    "    # Immune cells\n",
    "\n",
    "    # Bone Marrow\n",
    "    \"Pisco_BoneMarrow\",\n",
    "\n",
    "    # Lymph Node\n",
    "    \"Kim_LymphNode\",\n",
    "\n",
    "    # Blood & Vascular \n",
    "    \"Pisco_Blood\",\n",
    "\n",
    "    # Brain\n",
    "    \"Brainmap_Brain_MultipleAreas\",\n",
    "    \"Han_Brain_Cerebellum\",\n",
    "\n",
    "    # Eye\n",
    "    \"Lukowski_Eye\",\n",
    "    \"Pisco_Eye\",\n",
    "\n",
    "    # Thyroid Gland\n",
    "    \"Han_ThyroidGland\",\n",
    "\n",
    "    # Trachea\n",
    "    \"Pisco_Trachea\",\n",
    "\n",
    "    # Lung\n",
    "    \"Madissoon_Lung\",\n",
    "\n",
    "    # Heart\n",
    "    \"Pisco_Heart\",\n",
    "\n",
    "    # Spleen\n",
    "    \"Pisco_Spleen\",\n",
    "\n",
    "    # Liver\n",
    "    \"Ramachandran_Liver\",\n",
    "\n",
    "    # Gall Bladder\n",
    "    \"Han_GallBladder\",\n",
    "\n",
    "    # Salivary Gland\n",
    "    \"Pisco_SalivaryGland\",\n",
    "\n",
    "    # Tongue\n",
    "    \"Pisco_Tongue\",\n",
    "\n",
    "    # Oesophagus\n",
    "    \"Madissoon_Oesophagus\",\n",
    "\n",
    "    # Stomach\n",
    "    \"Han_Stomach\",\n",
    "\n",
    "    # Gut (Small Intestine) & Gut (Colon)\n",
    "    \"Pisco_Gut_SmallIntestine\",\n",
    "    \"Pisco_Gut_Colon\",\n",
    "\n",
    "    # Pancreas\n",
    "    \"Pisco_Pancreas\",\n",
    "\n",
    "    # Omentum\n",
    "    \"Han_Omentum\",\n",
    "\n",
    "    # Adrenal Gland\n",
    "    \"Han_AdrenalGland\",\n",
    "\n",
    "    # Kidney\n",
    "    \"Steward_Kidney\",\n",
    "\n",
    "    # Bladder\n",
    "\n",
    "    # Prostate\n",
    "    \"Pisco_Prostate\",\n",
    "\n",
    "    # Uterus\n",
    "    \"Pisco_Uterus\",\n",
    "\n",
    "    # Fallopian Tube\n",
    "    \"Han_FallopianTube\",\n",
    "\n",
    "    # Breast\n",
    "    \"Nakshatri_Breast\",\n",
    "\n",
    "    # Adipose Tissue\n",
    "    \"Pisco_AdiposeTissue\",\n",
    "\n",
    "    # Muscle\n",
    "    \"Pisco_Muscle\",\n",
    "\n",
    "    # Skin\n",
    "    \"Cheng_Skin\",\n",
    "\n",
    "    # Others\n",
    "]"
   ]
  },
  {
   "cell_type": "code",
   "execution_count": null,
   "metadata": {},
   "outputs": [],
   "source": [
    "# Set to track seen elements\n",
    "seen = set()\n",
    "# List to track duplicates\n",
    "duplicates = []\n",
    "\n",
    "# Iterate through the cells list\n",
    "for cell in datasets:\n",
    "    # If the cell is already in seen, it's a duplicate\n",
    "    if cell in seen:\n",
    "        duplicates.append(cell)\n",
    "    else:\n",
    "        seen.add(cell)\n",
    "\n",
    "# Output the duplicates\n",
    "print(\"Duplicate values:\", duplicates)"
   ]
  },
  {
   "cell_type": "markdown",
   "metadata": {},
   "source": [
    "## Reihenfolge Organs (organs)"
   ]
  },
  {
   "cell_type": "code",
   "execution_count": null,
   "metadata": {},
   "outputs": [],
   "source": [
    "print(len(adata_healthy.obs['Organ'].value_counts()))\n",
    "adata_healthy.obs['Organ'].value_counts()"
   ]
  },
  {
   "cell_type": "code",
   "execution_count": null,
   "metadata": {},
   "outputs": [],
   "source": [
    "organs = [\n",
    "    # Immune cells\n",
    "    #\"Blood\",\n",
    "    \n",
    "    # Bone Marrow\n",
    "    \"BoneMarrow\",\n",
    "    \n",
    "    # Lymph Node\n",
    "    \"LymphNode\",\n",
    "    \n",
    "    # Blood & Vascular \n",
    "    \"Blood\",\n",
    "\n",
    "    # Brain\n",
    "    \"Brain\",\n",
    "\n",
    "    # Eye\n",
    "    \"Eye\",\n",
    "\n",
    "    # Thyroid Gland\n",
    "    \"ThyroidGland\",\n",
    "\n",
    "    # Trachea\n",
    "    \"Trachea\",\n",
    "\n",
    "    # Lung\n",
    "    \"Lung\",\n",
    "\n",
    "    # Heart\n",
    "    \"Heart\",\n",
    "\n",
    "    # Spleen\n",
    "    \"Spleen\",\n",
    "\n",
    "    # Liver\n",
    "    \"Liver\",\n",
    "\n",
    "    # Gall Bladder\n",
    "    \"GallBladder\",\n",
    "\n",
    "    # Salivary Gland\n",
    "    \"SalivaryGland\",\n",
    "\n",
    "    # Tongue\n",
    "    \"Tongue\",\n",
    "\n",
    "    # Oesophagus\n",
    "    \"Oesophagus\",\n",
    "\n",
    "    # Stomach\n",
    "    \"Stomach\",\n",
    "\n",
    "    # Gut (Small Intestine) & Gut (Colon)\n",
    "    \"Gut_SmallIntestine\",\n",
    "    \"Gut_Colon\",\n",
    "\n",
    "    # Pancreas\n",
    "    \"Pancreas\",\n",
    "\n",
    "    # Omentum\n",
    "    \"Omentum\",\n",
    "\n",
    "    # Adrenal Gland\n",
    "    \"AdrenalGland\",\n",
    "\n",
    "    # Kidney\n",
    "    \"Kidney\",\n",
    "\n",
    "    # Bladder\n",
    "    \"Bladder\",\n",
    "\n",
    "    # Prostate\n",
    "    \"Prostate\",\n",
    "\n",
    "    # Uterus\n",
    "    \"Uterus\",\n",
    "\n",
    "    # Fallopian Tube\n",
    "    \"FallopianTube\",\n",
    "\n",
    "    # Breast\n",
    "    \"Breast\",\n",
    "\n",
    "    # Adipose Tissue\n",
    "    \"AdiposeTissue\",\n",
    "\n",
    "    # Muscle\n",
    "    \"Muscle\",\n",
    "\n",
    "    # Skin\n",
    "    \"Skin\",\n",
    "\n",
    "    # Others\n",
    "]"
   ]
  },
  {
   "cell_type": "code",
   "execution_count": null,
   "metadata": {},
   "outputs": [],
   "source": [
    "# Set to track seen elements\n",
    "seen = set()\n",
    "# List to track duplicates\n",
    "duplicates = []\n",
    "\n",
    "# Iterate through the cells list\n",
    "for cell in organs:\n",
    "    # If the cell is already in seen, it's a duplicate\n",
    "    if cell in seen:\n",
    "        duplicates.append(cell)\n",
    "    else:\n",
    "        seen.add(cell)\n",
    "\n",
    "# Output the duplicates\n",
    "print(\"Duplicate values:\", duplicates)"
   ]
  },
  {
   "cell_type": "code",
   "execution_count": null,
   "metadata": {},
   "outputs": [],
   "source": [
    "# Reordering categories for 'Organ', 'celltype', and 'Dataset' in adata_healthy\n",
    "adata_healthy.obs['Organ'] = adata_healthy.obs['Organ'].cat.reorder_categories(organs, ordered=True)\n",
    "adata.obs.sort_values('Organ', inplace=True)\n",
    "\n",
    "adata_healthy.obs['celltype'] = adata_healthy.obs['celltype'].cat.reorder_categories(cells, ordered=True)\n",
    "adata.obs.sort_values('celltype', inplace=True)\n",
    "\n",
    "adata_healthy.obs['Dataset'] = adata_healthy.obs['Dataset'].cat.reorder_categories(datasets, ordered=True)\n",
    "adata.obs.sort_values('Dataset', inplace=True)"
   ]
  },
  {
   "cell_type": "markdown",
   "metadata": {},
   "source": [
    "## Darstellung der Gene in der Matrixplot"
   ]
  },
  {
   "cell_type": "markdown",
   "metadata": {
    "tags": []
   },
   "source": [
    "### NTRK1"
   ]
  },
  {
   "cell_type": "code",
   "execution_count": null,
   "metadata": {},
   "outputs": [],
   "source": [
    "gene_of_interest = \"NTRK1\" # NTRK1, CD33, IL3RA, CSF1R, and CD86 "
   ]
  },
  {
   "cell_type": "code",
   "execution_count": null,
   "metadata": {},
   "outputs": [],
   "source": [
    "adata_healthy.var['genes'] = adata_healthy.var.index\n",
    "ix=np.isin(adata_healthy.var['genes'], gene_of_interest)\n",
    "adata_healthy_gene=adata_healthy[:,ix].copy()"
   ]
  },
  {
   "cell_type": "code",
   "execution_count": null,
   "metadata": {},
   "outputs": [],
   "source": [
    "celltypes = cells\n",
    "datasets = organs\n",
    "\n",
    "mean_expression_df = pd.DataFrame(index=celltypes, columns=datasets)"
   ]
  },
  {
   "cell_type": "code",
   "execution_count": null,
   "metadata": {},
   "outputs": [],
   "source": [
    "adata_healthy_gene.X = adata_healthy_gene.X.astype(float)"
   ]
  },
  {
   "cell_type": "code",
   "execution_count": null,
   "metadata": {},
   "outputs": [],
   "source": [
    "count = 0\n",
    "\n",
    "# Iterate through each cell type in `celltypes`\n",
    "for celltype in celltypes:\n",
    "    \n",
    "    count += 1  # Increment the counter for each cell type processed\n",
    "    \n",
    "    # Create a boolean index to filter the AnnData object for the current cell type\n",
    "    ix = np.isin(adata_healthy.obs['celltype'], celltype)\n",
    "    adata_healthy_gene_celltype = adata_healthy_gene[ix].copy()  # Subset\n",
    "    \n",
    "    print(celltype, ': ', len(adata_healthy_gene_celltype.obs))\n",
    "    \n",
    "    adata_healthy_gene_celltype.X = adata_healthy_gene_celltype.X.todense()\n",
    "    adata_healthy_gene_celltype.X = adata_healthy_gene_celltype.X.astype(float)\n",
    "    \n",
    "    # Create an empty DataFrame to store the mean values per organ\n",
    "    df = pd.DataFrame()\n",
    "    \n",
    "    # Extract the 'Organ' column from the observation data (obs) and add it to the DataFrame\n",
    "    df['Organ'] = adata_healthy_gene_celltype.obs['Organ'].tolist()\n",
    "    \n",
    "    # Convert each row in the gene expression matrix (X) to a list and compute the mean for each row (cell)\n",
    "    df['Dataset_value'] = [np.mean(row) for row in adata_healthy_gene_celltype.X]\n",
    "    \n",
    "    # Group by 'Organ' and calculate the mean expression per organ\n",
    "    mean_df = df.groupby('Organ')['Dataset_value'].mean().reset_index()\n",
    "    \n",
    "    mean_df.index = mean_df['Organ']\n",
    "    del mean_df['Organ']\n",
    "    \n",
    "    for dataset in mean_df.index:\n",
    "        mean_expression_df[dataset][celltype] = mean_df['Dataset_value'][dataset]"
   ]
  },
  {
   "cell_type": "code",
   "execution_count": null,
   "metadata": {},
   "outputs": [],
   "source": [
    "mean_expression_df.replace('NaN', np.nan, inplace=True)\n",
    "mean_expression_df = mean_expression_df.astype(float)\n",
    "mean_expression_df = mean_expression_df.loc[cells, datasets]"
   ]
  },
  {
   "cell_type": "code",
   "execution_count": null,
   "metadata": {},
   "outputs": [],
   "source": [
    "mean_expression_df[:3]"
   ]
  },
  {
   "cell_type": "code",
   "execution_count": null,
   "metadata": {},
   "outputs": [],
   "source": [
    "# Create an AnnData object from the mean expression DataFrame\n",
    "adata_df = anndata.AnnData(X=mean_expression_df.values)\n",
    "\n",
    "# Add cell types as observations (obs)\n",
    "adata_df.obs['celltype'] = mean_expression_df.index\n",
    "\n",
    "# Add datasets as variables (var)\n",
    "adata_df.var['dataset'] = mean_expression_df.columns\n",
    "\n",
    "# Set names for observations (obs) and variables (var)\n",
    "adata_df.obs.index = mean_expression_df.index\n",
    "adata_df.var.index = mean_expression_df.columns"
   ]
  },
  {
   "cell_type": "code",
   "execution_count": null,
   "metadata": {},
   "outputs": [],
   "source": [
    "adata_df.strings_to_categoricals()"
   ]
  },
  {
   "cell_type": "code",
   "execution_count": null,
   "metadata": {},
   "outputs": [],
   "source": [
    "from matplotlib.colors import LinearSegmentedColormap\n",
    "# Define a custom color scale transitioning from white to red\n",
    "colors = [\n",
    "    (1, 1, 1),   # White\n",
    "    (1, 0.9, 0.9),\n",
    "    (1, 0.8, 0.8),\n",
    "    (1, 0.7, 0.7),\n",
    "    (1, 0.6, 0.6),\n",
    "    (1, 0.5, 0.5),\n",
    "    (1, 0.4, 0.4),\n",
    "    (1, 0.3, 0.3),\n",
    "    (1, 0.2, 0.2),\n",
    "    (1, 0.1, 0.1),\n",
    "    (1, 0, 0)    # Red\n",
    "]\n",
    "\n",
    "n_bins = 256  # Number of color gradations\n",
    "cmap_name = 'custom_white_red'  # Name for the custom colormap\n",
    "\n",
    "# Create the colormap using the specified colors and number of bins\n",
    "cm = LinearSegmentedColormap.from_list(cmap_name, colors, N=n_bins)\n"
   ]
  },
  {
   "cell_type": "code",
   "execution_count": null,
   "metadata": {},
   "outputs": [],
   "source": [
    "sc.pl.matrixplot(adata_df,\n",
    "                 var_names=datasets,\n",
    "                # var_group_positions = datasets,\n",
    "                 \n",
    "                 groupby='celltype', #categories_order=cells,\n",
    "                 dendrogram=False, vmax=0.04, vmin=0.0000000000001, use_raw=False,\n",
    "                 #cmap='Reds', #standard_scale='var',\n",
    "                 cmap = cm)"
   ]
  },
  {
   "cell_type": "markdown",
   "metadata": {},
   "source": [
    "#### Subset for more detail"
   ]
  },
  {
   "cell_type": "markdown",
   "metadata": {},
   "source": [
    "##### Immunzellen"
   ]
  },
  {
   "cell_type": "code",
   "execution_count": null,
   "metadata": {},
   "outputs": [],
   "source": [
    "celltypes_of_interest = [\"B cells\",\n",
    "    \"Basophil cells\",\n",
    "    \"Common myeloid progenitor cells\",\n",
    "    \"Dendritic cells\",\n",
    "    \"Granulocyte cells\",\n",
    "    \"Innate lymphoid cells\",\n",
    "    \"Leukocytes\",\n",
    "    \"Lymphocytes\",\n",
    "    \"Macrophages\",\n",
    "    \"Mast cells\",\n",
    "    \"Monocytes\",\n",
    "    \"Myeloid cells\",\n",
    "    \"Neutrophils\",\n",
    "    \"NK cells\",\n",
    "    \"Plasma cells\",\n",
    "    \"T cells\"]"
   ]
  },
  {
   "cell_type": "code",
   "execution_count": null,
   "metadata": {},
   "outputs": [],
   "source": [
    "subset_adata = adata_df[adata_df.obs['celltype'].isin(celltypes_of_interest)]"
   ]
  },
  {
   "cell_type": "code",
   "execution_count": null,
   "metadata": {},
   "outputs": [],
   "source": [
    "sc.pl.matrixplot(subset_adata,\n",
    "                 var_names=datasets,\n",
    "                # var_group_positions = datasets,\n",
    "                 \n",
    "                 groupby='celltype', #categories_order=cells,\n",
    "                 dendrogram=False, vmax=0.3, vmin=0.000001, use_raw=False,\n",
    "                 #cmap='Reds', #standard_scale='var',\n",
    "                 cmap = cm)"
   ]
  },
  {
   "cell_type": "markdown",
   "metadata": {},
   "source": [
    "##### Neuronale Zellen"
   ]
  },
  {
   "cell_type": "code",
   "execution_count": null,
   "metadata": {},
   "outputs": [],
   "source": [
    "organs = [\n",
    "\n",
    "    # Brain\n",
    "    \"Brain\",\n",
    "\n",
    "    # Eye\n",
    "    \"Eye\",\n",
    "\n",
    "    # Tongue\n",
    "    \"Tongue\",\n",
    "\n",
    "    # Adrenal Gland\n",
    "    \"AdrenalGland\"\n",
    "\n",
    "]"
   ]
  },
  {
   "cell_type": "code",
   "execution_count": null,
   "metadata": {},
   "outputs": [],
   "source": [
    "celltypes_of_interest = [ # Brain\n",
    "    \"Astrocytes\",\n",
    "    \"Cerebellar epithelial cells\",\n",
    "    \"Glial cells\",\n",
    "    \"Microglial cells\",\n",
    "    \"Neurons\",\n",
    "    \"Oligodendrocytes\",\n",
    "    \"Radial glial progenitor cells\",\n",
    "    \n",
    "\n",
    "    # Eye\n",
    "    \"Conjunctival epithelial cells\",\n",
    "    \"Corneal epithelial cells\",\n",
    "    \"Keratocytes\",\n",
    "    \"Lacrimal sac epithelial cells\",\n",
    "    \"Retinal photoreceptor cells\",\n",
    "    \"Retinal pigment epithelial cells\",\n",
    "    \"Retinal stem cells\"]"
   ]
  },
  {
   "cell_type": "code",
   "execution_count": null,
   "metadata": {},
   "outputs": [],
   "source": [
    "subset_adata = adata_df[adata_df.obs['celltype'].isin(celltypes_of_interest)]"
   ]
  },
  {
   "cell_type": "code",
   "execution_count": null,
   "metadata": {},
   "outputs": [],
   "source": [
    "sc.pl.matrixplot(subset_adata,\n",
    "                 var_names=organs,\n",
    "                # var_group_positions = datasets,\n",
    "                 \n",
    "                 groupby='celltype', #categories_order=cells,\n",
    "                 dendrogram=False, vmax=0.3, vmin=0.000001, use_raw=False,\n",
    "                 #cmap='Reds', #standard_scale='var',\n",
    "                 cmap = cm)"
   ]
  },
  {
   "cell_type": "markdown",
   "metadata": {},
   "source": [
    "##### Epithelzellen & Drüsenzellen"
   ]
  },
  {
   "cell_type": "code",
   "execution_count": null,
   "metadata": {},
   "outputs": [],
   "source": [
    "organs = [\n",
    "    # Brain\n",
    "   # \"Brain\",\n",
    "\n",
    "    # Eye\n",
    "    \"Eye\",\n",
    "\n",
    "    # Thyroid Gland\n",
    "   # \"ThyroidGland\",\n",
    "\n",
    "    # Trachea\n",
    "    \"Trachea\",\n",
    "\n",
    "    # Salivary Gland\n",
    "    \"SalivaryGland\",\n",
    "\n",
    "    # Tongue\n",
    "    \"Tongue\",\n",
    "\n",
    "    # Oesophagus\n",
    "    \"Oesophagus\",\n",
    "\n",
    "    # Stomach\n",
    "    \"Stomach\",\n",
    "\n",
    "    # Gut (Small Intestine) & Gut (Colon)\n",
    "    \"Gut_SmallIntestine\",\n",
    "    \"Gut_Colon\",\n",
    "\n",
    "    # Pancreas\n",
    "    \"Pancreas\",\n",
    "\n",
    "    # Omentum\n",
    "    #\"Omentum\",\n",
    "\n",
    "\n",
    "    # Kidney\n",
    "    \"Kidney\",\n",
    "\n",
    "    # Bladder\n",
    "    \"Bladder\",\n",
    "\n",
    "    # Prostate\n",
    "    \"Prostate\",\n",
    "\n",
    "    # Fallopian Tube\n",
    "    \"FallopianTube\",\n",
    "\n",
    "    # Breast\n",
    "    \"Breast\",\n",
    "]"
   ]
  },
  {
   "cell_type": "code",
   "execution_count": null,
   "metadata": {},
   "outputs": [],
   "source": [
    "celltypes_of_interest = [\n",
    "    # Epithelial Cells\n",
    "    \"Conjunctival epithelial cells\",\n",
    "    \"Corneal epithelial cells\",\n",
    "    \"Ciliary pigment epithelial cells\",\n",
    "    \"Gastric epithelial cells\",\n",
    "    \"Intestinal epithelial cells\",\n",
    "    \"Oesophageal epithelial cells\",\n",
    "    \"Airway epithelial cells\",\n",
    "    \"Lacrimal sac epithelial cells\",\n",
    "    \"Thyroid follicular cells\",\n",
    "    \"Retinal pigment epithelial cells\",\n",
    "    \"Urothelial cells\",\n",
    "    \"Prostate epithelium cells\",\n",
    "    \"Epithelial uterus cells\",\n",
    "    \"Oviductal epithelial cells\",\n",
    "    \"Tongue epithelial cells\",\n",
    "    \"Collecting duct system cells\",\n",
    "\n",
    "    # Gland Cells\n",
    "    \"Salivary acinar gland cells\",\n",
    "    \"Salivary duct cells\",\n",
    "    \"Salivary gland cells\",\n",
    "    \"Pancreatic acinar cells\",\n",
    "    \"Pancreatic ductal cells\",\n",
    "    \"Mammary epithelial gland cells\",\n",
    "    \"Gastric chief cells\",\n",
    "    \"Gastric parietal cells\",\n",
    "    \"Gastric pit cells\",\n",
    "    \"Gastric XA-like cells\",\n",
    "    \"Intestinal secretory cells\",\n",
    "    \"Thyroid follicular cells\",\n",
    "    \"Pancreatic endocrine cells\",\n",
    "]"
   ]
  },
  {
   "cell_type": "code",
   "execution_count": null,
   "metadata": {},
   "outputs": [],
   "source": [
    "subset_adata = adata_df[adata_df.obs['celltype'].isin(celltypes_of_interest)]"
   ]
  },
  {
   "cell_type": "code",
   "execution_count": null,
   "metadata": {},
   "outputs": [],
   "source": [
    "sc.pl.matrixplot(subset_adata,\n",
    "                 var_names=organs,\n",
    "                # var_group_positions = datasets,\n",
    "                 \n",
    "                 groupby='celltype', #categories_order=cells,\n",
    "                 dendrogram=False, vmax=0.3, vmin=0.000001, use_raw=False,\n",
    "                 #cmap='Reds', #standard_scale='var',\n",
    "                 cmap = cm)"
   ]
  },
  {
   "cell_type": "markdown",
   "metadata": {},
   "source": [
    "##### Bindegewebs- und Stromazellen"
   ]
  },
  {
   "cell_type": "code",
   "execution_count": null,
   "metadata": {},
   "outputs": [],
   "source": [
    "organs = [\n",
    "   \n",
    "    # Eye\n",
    "    \"Eye\",\n",
    "\n",
    "    # Thyroid Gland\n",
    "    \"ThyroidGland\",\n",
    "\n",
    "    # Trachea\n",
    "    \"Trachea\",\n",
    "\n",
    "    # Lung\n",
    "    \"Lung\",\n",
    "\n",
    "    # Heart\n",
    "    \"Heart\",\n",
    "\n",
    "    # Liver\n",
    "    \"Liver\",\n",
    "\n",
    "    # Gall Bladder\n",
    "    \"GallBladder\",\n",
    "\n",
    "    # Salivary Gland\n",
    "    \"SalivaryGland\",\n",
    "\n",
    "    # Tongue\n",
    "    \"Tongue\",\n",
    "\n",
    "    # Oesophagus\n",
    "    \"Oesophagus\",\n",
    "\n",
    "    # Stomach\n",
    "    \"Stomach\",\n",
    "\n",
    "    # Gut (Small Intestine) & Gut (Colon)\n",
    "    \"Gut_SmallIntestine\",\n",
    "    \"Gut_Colon\",\n",
    "\n",
    "    # Pancreas\n",
    "    \"Pancreas\",\n",
    "\n",
    "    # Omentum\n",
    "    \"Omentum\",\n",
    "\n",
    "    # Adrenal Gland\n",
    "    \"AdrenalGland\",\n",
    "\n",
    "    # Kidney\n",
    "    \"Kidney\",\n",
    "\n",
    "    # Bladder\n",
    "    \"Bladder\",\n",
    "\n",
    "    # Prostate\n",
    "    \"Prostate\",\n",
    "\n",
    "    # Uterus\n",
    "    \"Uterus\",\n",
    "\n",
    "    # Fallopian Tube\n",
    "    \"FallopianTube\",\n",
    "\n",
    "    # Adipose Tissue\n",
    "    \"AdiposeTissue\",\n",
    "\n",
    "    # Muscle\n",
    "    \"Muscle\",\n",
    "\n",
    "]"
   ]
  },
  {
   "cell_type": "code",
   "execution_count": null,
   "metadata": {},
   "outputs": [],
   "source": [
    "celltypes_of_interest = [\n",
    "    \"Fibroblast cells\",\n",
    "    \"Mesothelial cells\",\n",
    "    \"Myofibroblast cells\",\n",
    "    \"Mesenchymal stem cells\",\n",
    "    \"Mesenchymal stromal cells\",\n",
    "    \"Smooth muscle cells\",\n",
    "    \n",
    "    \"Skeletal muscle cells\",\n",
    "    \"Skeletal satellite cells\",\n",
    "    \"Tendon cells\",\n",
    "]"
   ]
  },
  {
   "cell_type": "code",
   "execution_count": null,
   "metadata": {},
   "outputs": [],
   "source": [
    "subset_adata = adata_df[adata_df.obs['celltype'].isin(celltypes_of_interest)]"
   ]
  },
  {
   "cell_type": "code",
   "execution_count": null,
   "metadata": {},
   "outputs": [],
   "source": [
    "sc.pl.matrixplot(subset_adata,\n",
    "                 var_names=organs,\n",
    "                # var_group_positions = datasets,\n",
    "                 \n",
    "                 groupby='celltype', #categories_order=cells,\n",
    "                 dendrogram=False, vmax=0.3, vmin=0.000001, use_raw=False,\n",
    "                 #cmap='Reds', #standard_scale='var',\n",
    "                 cmap = cm)"
   ]
  },
  {
   "cell_type": "markdown",
   "metadata": {
    "tags": []
   },
   "source": [
    "### CD33"
   ]
  },
  {
   "cell_type": "code",
   "execution_count": null,
   "metadata": {},
   "outputs": [],
   "source": [
    "gene_of_interest = \"CD33\" # NTRK1, CD33, IL3RA, CSF1R, and CD86 "
   ]
  },
  {
   "cell_type": "code",
   "execution_count": null,
   "metadata": {},
   "outputs": [],
   "source": [
    "adata_healthy.var['genes'] = adata_healthy.var.index\n",
    "ix=np.isin(adata_healthy.var['genes'], gene_of_interest)\n",
    "adata_healthy_gene=adata_healthy[:,ix].copy()"
   ]
  },
  {
   "cell_type": "code",
   "execution_count": null,
   "metadata": {},
   "outputs": [],
   "source": [
    "celltypes = cells\n",
    "datasets = organs\n",
    "\n",
    "mean_expression_df = pd.DataFrame(index=celltypes, columns=datasets)"
   ]
  },
  {
   "cell_type": "code",
   "execution_count": null,
   "metadata": {},
   "outputs": [],
   "source": [
    "adata_healthy_gene.X = adata_healthy_gene.X.astype(float)"
   ]
  },
  {
   "cell_type": "code",
   "execution_count": null,
   "metadata": {},
   "outputs": [],
   "source": [
    "count = 0\n",
    "\n",
    "# Iterate through each cell type in `celltypes`\n",
    "for celltype in celltypes:\n",
    "    \n",
    "    count += 1  # Increment the counter for each cell type processed\n",
    "    \n",
    "    # Create a boolean index to filter the AnnData object for the current cell type\n",
    "    ix = np.isin(adata_healthy.obs['celltype'], celltype)\n",
    "    adata_healthy_gene_celltype = adata_healthy_gene[ix].copy()  # Subset\n",
    "    \n",
    "    print(celltype, ': ', len(adata_healthy_gene_celltype.obs))\n",
    "    \n",
    "    adata_healthy_gene_celltype.X = adata_healthy_gene_celltype.X.todense()\n",
    "    adata_healthy_gene_celltype.X = adata_healthy_gene_celltype.X.astype(float)\n",
    "    \n",
    "    # Create an empty DataFrame to store the mean values per organ\n",
    "    df = pd.DataFrame()\n",
    "    \n",
    "    # Extract the 'Organ' column from the observation data (obs) and add it to the DataFrame\n",
    "    df['Organ'] = adata_healthy_gene_celltype.obs['Organ'].tolist()\n",
    "    \n",
    "    # Convert each row in the gene expression matrix (X) to a list and compute the mean for each row (cell)\n",
    "    df['Dataset_value'] = [np.mean(row) for row in adata_healthy_gene_celltype.X]\n",
    "    \n",
    "    # Group by 'Organ' and calculate the mean expression per organ\n",
    "    mean_df = df.groupby('Organ')['Dataset_value'].mean().reset_index()\n",
    "    \n",
    "    mean_df.index = mean_df['Organ']\n",
    "    del mean_df['Organ']\n",
    "    \n",
    "    for dataset in mean_df.index:\n",
    "        mean_expression_df[dataset][celltype] = mean_df['Dataset_value'][dataset]"
   ]
  },
  {
   "cell_type": "code",
   "execution_count": null,
   "metadata": {},
   "outputs": [],
   "source": [
    "mean_expression_df.replace('NaN', np.nan, inplace=True)\n",
    "mean_expression_df = mean_expression_df.astype(float)\n",
    "mean_expression_df = mean_expression_df.loc[cells, datasets]"
   ]
  },
  {
   "cell_type": "code",
   "execution_count": null,
   "metadata": {},
   "outputs": [],
   "source": [
    "mean_expression_df[:3]"
   ]
  },
  {
   "cell_type": "code",
   "execution_count": null,
   "metadata": {},
   "outputs": [],
   "source": [
    "# Create an AnnData object from the mean expression DataFrame\n",
    "adata_df = anndata.AnnData(X=mean_expression_df.values)\n",
    "\n",
    "# Add cell types as observations (obs)\n",
    "adata_df.obs['celltype'] = mean_expression_df.index\n",
    "\n",
    "# Add datasets as variables (var)\n",
    "adata_df.var['dataset'] = mean_expression_df.columns\n",
    "\n",
    "# Set names for observations (obs) and variables (var)\n",
    "adata_df.obs.index = mean_expression_df.index\n",
    "adata_df.var.index = mean_expression_df.columns"
   ]
  },
  {
   "cell_type": "code",
   "execution_count": null,
   "metadata": {},
   "outputs": [],
   "source": [
    "adata_df.strings_to_categoricals()"
   ]
  },
  {
   "cell_type": "code",
   "execution_count": null,
   "metadata": {},
   "outputs": [],
   "source": [
    "from matplotlib.colors import LinearSegmentedColormap\n",
    "# Define a custom color scale transitioning from white to red\n",
    "colors = [\n",
    "    (1, 1, 1),   # White\n",
    "    (1, 0.9, 0.9),\n",
    "    (1, 0.8, 0.8),\n",
    "    (1, 0.7, 0.7),\n",
    "    (1, 0.6, 0.6),\n",
    "    (1, 0.5, 0.5),\n",
    "    (1, 0.4, 0.4),\n",
    "    (1, 0.3, 0.3),\n",
    "    (1, 0.2, 0.2),\n",
    "    (1, 0.1, 0.1),\n",
    "    (1, 0, 0)    # Red\n",
    "]\n",
    "\n",
    "n_bins = 256  # Number of color gradations\n",
    "cmap_name = 'custom_white_red'  # Name for the custom colormap\n",
    "\n",
    "# Create the colormap using the specified colors and number of bins\n",
    "cm = LinearSegmentedColormap.from_list(cmap_name, colors, N=n_bins)\n"
   ]
  },
  {
   "cell_type": "code",
   "execution_count": null,
   "metadata": {},
   "outputs": [],
   "source": [
    "sc.pl.matrixplot(adata_df,\n",
    "                 var_names=datasets,\n",
    "                # var_group_positions = datasets,\n",
    "                 \n",
    "                 groupby='celltype', #categories_order=cells,\n",
    "                 dendrogram=False, vmax=0.04, vmin=0.0000000000001, use_raw=False,\n",
    "                 #cmap='Reds', #standard_scale='var',\n",
    "                 cmap = cm)"
   ]
  },
  {
   "cell_type": "markdown",
   "metadata": {
    "tags": []
   },
   "source": [
    "### IL3RA"
   ]
  },
  {
   "cell_type": "code",
   "execution_count": null,
   "metadata": {},
   "outputs": [],
   "source": [
    "gene_of_interest = \"IL3RA\" # NTRK1, CD33, IL3RA, CSF1R, and CD86 "
   ]
  },
  {
   "cell_type": "code",
   "execution_count": null,
   "metadata": {},
   "outputs": [],
   "source": [
    "adata_healthy.var['genes'] = adata_healthy.var.index\n",
    "ix=np.isin(adata_healthy.var['genes'], gene_of_interest)\n",
    "adata_healthy_gene=adata_healthy[:,ix].copy()"
   ]
  },
  {
   "cell_type": "code",
   "execution_count": null,
   "metadata": {},
   "outputs": [],
   "source": [
    "celltypes = cells\n",
    "datasets = organs\n",
    "\n",
    "mean_expression_df = pd.DataFrame(index=celltypes, columns=datasets)"
   ]
  },
  {
   "cell_type": "code",
   "execution_count": null,
   "metadata": {},
   "outputs": [],
   "source": [
    "adata_healthy_gene.X = adata_healthy_gene.X.astype(float)"
   ]
  },
  {
   "cell_type": "code",
   "execution_count": null,
   "metadata": {},
   "outputs": [],
   "source": [
    "count = 0\n",
    "\n",
    "# Iterate through each cell type in `celltypes`\n",
    "for celltype in celltypes:\n",
    "    \n",
    "    count += 1  # Increment the counter for each cell type processed\n",
    "    \n",
    "    # Create a boolean index to filter the AnnData object for the current cell type\n",
    "    ix = np.isin(adata_healthy.obs['celltype'], celltype)\n",
    "    adata_healthy_gene_celltype = adata_healthy_gene[ix].copy()  # Subset\n",
    "    \n",
    "    print(celltype, ': ', len(adata_healthy_gene_celltype.obs))\n",
    "    \n",
    "    adata_healthy_gene_celltype.X = adata_healthy_gene_celltype.X.todense()\n",
    "    adata_healthy_gene_celltype.X = adata_healthy_gene_celltype.X.astype(float)\n",
    "    \n",
    "    # Create an empty DataFrame to store the mean values per organ\n",
    "    df = pd.DataFrame()\n",
    "    \n",
    "    # Extract the 'Organ' column from the observation data (obs) and add it to the DataFrame\n",
    "    df['Organ'] = adata_healthy_gene_celltype.obs['Organ'].tolist()\n",
    "    \n",
    "    # Convert each row in the gene expression matrix (X) to a list and compute the mean for each row (cell)\n",
    "    df['Dataset_value'] = [np.mean(row) for row in adata_healthy_gene_celltype.X]\n",
    "    \n",
    "    # Group by 'Organ' and calculate the mean expression per organ\n",
    "    mean_df = df.groupby('Organ')['Dataset_value'].mean().reset_index()\n",
    "    \n",
    "    mean_df.index = mean_df['Organ']\n",
    "    del mean_df['Organ']\n",
    "    \n",
    "    for dataset in mean_df.index:\n",
    "        mean_expression_df[dataset][celltype] = mean_df['Dataset_value'][dataset]"
   ]
  },
  {
   "cell_type": "code",
   "execution_count": null,
   "metadata": {},
   "outputs": [],
   "source": [
    "mean_expression_df.replace('NaN', np.nan, inplace=True)\n",
    "mean_expression_df = mean_expression_df.astype(float)\n",
    "mean_expression_df = mean_expression_df.loc[cells, datasets]"
   ]
  },
  {
   "cell_type": "code",
   "execution_count": null,
   "metadata": {},
   "outputs": [],
   "source": [
    "mean_expression_df[:3]"
   ]
  },
  {
   "cell_type": "code",
   "execution_count": null,
   "metadata": {},
   "outputs": [],
   "source": [
    "# Create an AnnData object from the mean expression DataFrame\n",
    "adata_df = anndata.AnnData(X=mean_expression_df.values)\n",
    "\n",
    "# Add cell types as observations (obs)\n",
    "adata_df.obs['celltype'] = mean_expression_df.index\n",
    "\n",
    "# Add datasets as variables (var)\n",
    "adata_df.var['dataset'] = mean_expression_df.columns\n",
    "\n",
    "# Set names for observations (obs) and variables (var)\n",
    "adata_df.obs.index = mean_expression_df.index\n",
    "adata_df.var.index = mean_expression_df.columns"
   ]
  },
  {
   "cell_type": "code",
   "execution_count": null,
   "metadata": {},
   "outputs": [],
   "source": [
    "adata_df.strings_to_categoricals()"
   ]
  },
  {
   "cell_type": "code",
   "execution_count": null,
   "metadata": {},
   "outputs": [],
   "source": [
    "from matplotlib.colors import LinearSegmentedColormap\n",
    "# Define a custom color scale transitioning from white to red\n",
    "colors = [\n",
    "    (1, 1, 1),   # White\n",
    "    (1, 0.9, 0.9),\n",
    "    (1, 0.8, 0.8),\n",
    "    (1, 0.7, 0.7),\n",
    "    (1, 0.6, 0.6),\n",
    "    (1, 0.5, 0.5),\n",
    "    (1, 0.4, 0.4),\n",
    "    (1, 0.3, 0.3),\n",
    "    (1, 0.2, 0.2),\n",
    "    (1, 0.1, 0.1),\n",
    "    (1, 0, 0)    # Red\n",
    "]\n",
    "\n",
    "n_bins = 256  # Number of color gradations\n",
    "cmap_name = 'custom_white_red'  # Name for the custom colormap\n",
    "\n",
    "# Create the colormap using the specified colors and number of bins\n",
    "cm = LinearSegmentedColormap.from_list(cmap_name, colors, N=n_bins)\n"
   ]
  },
  {
   "cell_type": "code",
   "execution_count": null,
   "metadata": {},
   "outputs": [],
   "source": [
    "sc.pl.matrixplot(adata_df,\n",
    "                 var_names=datasets,\n",
    "                # var_group_positions = datasets,\n",
    "                 \n",
    "                 groupby='celltype', #categories_order=cells,\n",
    "                 dendrogram=False, vmax=0.04, vmin=0.0000000000001, use_raw=False,\n",
    "                 #cmap='Reds', #standard_scale='var',\n",
    "                 cmap = cm)"
   ]
  },
  {
   "cell_type": "markdown",
   "metadata": {
    "tags": []
   },
   "source": [
    "### CSF1R"
   ]
  },
  {
   "cell_type": "code",
   "execution_count": null,
   "metadata": {},
   "outputs": [],
   "source": [
    "gene_of_interest = \"CSF1R\" # NTRK1, CD33, IL3RA, CSF1R, and CD86 "
   ]
  },
  {
   "cell_type": "code",
   "execution_count": null,
   "metadata": {},
   "outputs": [],
   "source": [
    "adata_healthy.var['genes'] = adata_healthy.var.index\n",
    "ix=np.isin(adata_healthy.var['genes'], gene_of_interest)\n",
    "adata_healthy_gene=adata_healthy[:,ix].copy()"
   ]
  },
  {
   "cell_type": "code",
   "execution_count": null,
   "metadata": {},
   "outputs": [],
   "source": [
    "celltypes = cells\n",
    "datasets = organs\n",
    "\n",
    "mean_expression_df = pd.DataFrame(index=celltypes, columns=datasets)"
   ]
  },
  {
   "cell_type": "code",
   "execution_count": null,
   "metadata": {},
   "outputs": [],
   "source": [
    "adata_healthy_gene.X = adata_healthy_gene.X.astype(float)"
   ]
  },
  {
   "cell_type": "code",
   "execution_count": null,
   "metadata": {},
   "outputs": [],
   "source": [
    "count = 0\n",
    "\n",
    "# Iterate through each cell type in `celltypes`\n",
    "for celltype in celltypes:\n",
    "    \n",
    "    count += 1  # Increment the counter for each cell type processed\n",
    "    \n",
    "    # Create a boolean index to filter the AnnData object for the current cell type\n",
    "    ix = np.isin(adata_healthy.obs['celltype'], celltype)\n",
    "    adata_healthy_gene_celltype = adata_healthy_gene[ix].copy()  # Subset\n",
    "    \n",
    "    print(celltype, ': ', len(adata_healthy_gene_celltype.obs))\n",
    "    \n",
    "    adata_healthy_gene_celltype.X = adata_healthy_gene_celltype.X.todense()\n",
    "    adata_healthy_gene_celltype.X = adata_healthy_gene_celltype.X.astype(float)\n",
    "    \n",
    "    # Create an empty DataFrame to store the mean values per organ\n",
    "    df = pd.DataFrame()\n",
    "    \n",
    "    # Extract the 'Organ' column from the observation data (obs) and add it to the DataFrame\n",
    "    df['Organ'] = adata_healthy_gene_celltype.obs['Organ'].tolist()\n",
    "    \n",
    "    # Convert each row in the gene expression matrix (X) to a list and compute the mean for each row (cell)\n",
    "    df['Dataset_value'] = [np.mean(row) for row in adata_healthy_gene_celltype.X]\n",
    "    \n",
    "    # Group by 'Organ' and calculate the mean expression per organ\n",
    "    mean_df = df.groupby('Organ')['Dataset_value'].mean().reset_index()\n",
    "    \n",
    "    mean_df.index = mean_df['Organ']\n",
    "    del mean_df['Organ']\n",
    "    \n",
    "    for dataset in mean_df.index:\n",
    "        mean_expression_df[dataset][celltype] = mean_df['Dataset_value'][dataset]"
   ]
  },
  {
   "cell_type": "code",
   "execution_count": null,
   "metadata": {},
   "outputs": [],
   "source": [
    "mean_expression_df.replace('NaN', np.nan, inplace=True)\n",
    "mean_expression_df = mean_expression_df.astype(float)\n",
    "mean_expression_df = mean_expression_df.loc[cells, datasets]"
   ]
  },
  {
   "cell_type": "code",
   "execution_count": null,
   "metadata": {},
   "outputs": [],
   "source": [
    "mean_expression_df[:3]"
   ]
  },
  {
   "cell_type": "code",
   "execution_count": null,
   "metadata": {},
   "outputs": [],
   "source": [
    "# Create an AnnData object from the mean expression DataFrame\n",
    "adata_df = anndata.AnnData(X=mean_expression_df.values)\n",
    "\n",
    "# Add cell types as observations (obs)\n",
    "adata_df.obs['celltype'] = mean_expression_df.index\n",
    "\n",
    "# Add datasets as variables (var)\n",
    "adata_df.var['dataset'] = mean_expression_df.columns\n",
    "\n",
    "# Set names for observations (obs) and variables (var)\n",
    "adata_df.obs.index = mean_expression_df.index\n",
    "adata_df.var.index = mean_expression_df.columns"
   ]
  },
  {
   "cell_type": "code",
   "execution_count": null,
   "metadata": {},
   "outputs": [],
   "source": [
    "adata_df.strings_to_categoricals()"
   ]
  },
  {
   "cell_type": "code",
   "execution_count": null,
   "metadata": {},
   "outputs": [],
   "source": [
    "from matplotlib.colors import LinearSegmentedColormap\n",
    "# Define a custom color scale transitioning from white to red\n",
    "colors = [\n",
    "    (1, 1, 1),   # White\n",
    "    (1, 0.9, 0.9),\n",
    "    (1, 0.8, 0.8),\n",
    "    (1, 0.7, 0.7),\n",
    "    (1, 0.6, 0.6),\n",
    "    (1, 0.5, 0.5),\n",
    "    (1, 0.4, 0.4),\n",
    "    (1, 0.3, 0.3),\n",
    "    (1, 0.2, 0.2),\n",
    "    (1, 0.1, 0.1),\n",
    "    (1, 0, 0)    # Red\n",
    "]\n",
    "\n",
    "n_bins = 256  # Number of color gradations\n",
    "cmap_name = 'custom_white_red'  # Name for the custom colormap\n",
    "\n",
    "# Create the colormap using the specified colors and number of bins\n",
    "cm = LinearSegmentedColormap.from_list(cmap_name, colors, N=n_bins)\n"
   ]
  },
  {
   "cell_type": "code",
   "execution_count": null,
   "metadata": {},
   "outputs": [],
   "source": [
    "sc.pl.matrixplot(adata_df,\n",
    "                 var_names=datasets,\n",
    "                # var_group_positions = datasets,\n",
    "                 \n",
    "                 groupby='celltype', #categories_order=cells,\n",
    "                 dendrogram=False, vmax=0.04, vmin=0.0000000000001, use_raw=False,\n",
    "                 #cmap='Reds', #standard_scale='var',\n",
    "                 cmap = cm)"
   ]
  },
  {
   "cell_type": "markdown",
   "metadata": {
    "tags": []
   },
   "source": [
    "### CD86"
   ]
  },
  {
   "cell_type": "code",
   "execution_count": null,
   "metadata": {},
   "outputs": [],
   "source": [
    "gene_of_interest = \"CD86\" # NTRK1, CD33, IL3RA, CSF1R, and CD86 "
   ]
  },
  {
   "cell_type": "code",
   "execution_count": null,
   "metadata": {},
   "outputs": [],
   "source": [
    "adata_healthy.var['genes'] = adata_healthy.var.index\n",
    "ix=np.isin(adata_healthy.var['genes'], gene_of_interest)\n",
    "adata_healthy_gene=adata_healthy[:,ix].copy()"
   ]
  },
  {
   "cell_type": "code",
   "execution_count": null,
   "metadata": {},
   "outputs": [],
   "source": [
    "celltypes = cells\n",
    "datasets = organs\n",
    "\n",
    "mean_expression_df = pd.DataFrame(index=celltypes, columns=datasets)"
   ]
  },
  {
   "cell_type": "code",
   "execution_count": null,
   "metadata": {},
   "outputs": [],
   "source": [
    "adata_healthy_gene.X = adata_healthy_gene.X.astype(float)"
   ]
  },
  {
   "cell_type": "code",
   "execution_count": null,
   "metadata": {},
   "outputs": [],
   "source": [
    "count = 0\n",
    "\n",
    "# Iterate through each cell type in `celltypes`\n",
    "for celltype in celltypes:\n",
    "    \n",
    "    count += 1  # Increment the counter for each cell type processed\n",
    "    \n",
    "    # Create a boolean index to filter the AnnData object for the current cell type\n",
    "    ix = np.isin(adata_healthy.obs['celltype'], celltype)\n",
    "    adata_healthy_gene_celltype = adata_healthy_gene[ix].copy()  # Subset\n",
    "    \n",
    "    print(celltype, ': ', len(adata_healthy_gene_celltype.obs))\n",
    "    \n",
    "    adata_healthy_gene_celltype.X = adata_healthy_gene_celltype.X.todense()\n",
    "    adata_healthy_gene_celltype.X = adata_healthy_gene_celltype.X.astype(float)\n",
    "    \n",
    "    # Create an empty DataFrame to store the mean values per organ\n",
    "    df = pd.DataFrame()\n",
    "    \n",
    "    # Extract the 'Organ' column from the observation data (obs) and add it to the DataFrame\n",
    "    df['Organ'] = adata_healthy_gene_celltype.obs['Organ'].tolist()\n",
    "    \n",
    "    # Convert each row in the gene expression matrix (X) to a list and compute the mean for each row (cell)\n",
    "    df['Dataset_value'] = [np.mean(row) for row in adata_healthy_gene_celltype.X]\n",
    "    \n",
    "    # Group by 'Organ' and calculate the mean expression per organ\n",
    "    mean_df = df.groupby('Organ')['Dataset_value'].mean().reset_index()\n",
    "    \n",
    "    mean_df.index = mean_df['Organ']\n",
    "    del mean_df['Organ']\n",
    "    \n",
    "    for dataset in mean_df.index:\n",
    "        mean_expression_df[dataset][celltype] = mean_df['Dataset_value'][dataset]"
   ]
  },
  {
   "cell_type": "code",
   "execution_count": null,
   "metadata": {},
   "outputs": [],
   "source": [
    "mean_expression_df.replace('NaN', np.nan, inplace=True)\n",
    "mean_expression_df = mean_expression_df.astype(float)\n",
    "mean_expression_df = mean_expression_df.loc[cells, datasets]"
   ]
  },
  {
   "cell_type": "code",
   "execution_count": null,
   "metadata": {},
   "outputs": [],
   "source": [
    "mean_expression_df[:3]"
   ]
  },
  {
   "cell_type": "code",
   "execution_count": null,
   "metadata": {},
   "outputs": [],
   "source": [
    "# Create an AnnData object from the mean expression DataFrame\n",
    "adata_df = anndata.AnnData(X=mean_expression_df.values)\n",
    "\n",
    "# Add cell types as observations (obs)\n",
    "adata_df.obs['celltype'] = mean_expression_df.index\n",
    "\n",
    "# Add datasets as variables (var)\n",
    "adata_df.var['dataset'] = mean_expression_df.columns\n",
    "\n",
    "# Set names for observations (obs) and variables (var)\n",
    "adata_df.obs.index = mean_expression_df.index\n",
    "adata_df.var.index = mean_expression_df.columns"
   ]
  },
  {
   "cell_type": "code",
   "execution_count": null,
   "metadata": {},
   "outputs": [],
   "source": [
    "adata_df.strings_to_categoricals()"
   ]
  },
  {
   "cell_type": "code",
   "execution_count": null,
   "metadata": {},
   "outputs": [],
   "source": [
    "from matplotlib.colors import LinearSegmentedColormap\n",
    "# Define a custom color scale transitioning from white to red\n",
    "colors = [\n",
    "    (1, 1, 1),   # White\n",
    "    (1, 0.9, 0.9),\n",
    "    (1, 0.8, 0.8),\n",
    "    (1, 0.7, 0.7),\n",
    "    (1, 0.6, 0.6),\n",
    "    (1, 0.5, 0.5),\n",
    "    (1, 0.4, 0.4),\n",
    "    (1, 0.3, 0.3),\n",
    "    (1, 0.2, 0.2),\n",
    "    (1, 0.1, 0.1),\n",
    "    (1, 0, 0)    # Red\n",
    "]\n",
    "\n",
    "n_bins = 256  # Number of color gradations\n",
    "cmap_name = 'custom_white_red'  # Name for the custom colormap\n",
    "\n",
    "# Create the colormap using the specified colors and number of bins\n",
    "cm = LinearSegmentedColormap.from_list(cmap_name, colors, N=n_bins)\n"
   ]
  },
  {
   "cell_type": "code",
   "execution_count": null,
   "metadata": {},
   "outputs": [],
   "source": [
    "sc.pl.matrixplot(adata_df,\n",
    "                 var_names=datasets,\n",
    "                # var_group_positions = datasets,\n",
    "                 \n",
    "                 groupby='celltype', #categories_order=cells,\n",
    "                 dendrogram=False, vmax=0.04, vmin=0.0000000000001, use_raw=False,\n",
    "                 #cmap='Reds', #standard_scale='var',\n",
    "                 cmap = cm)"
   ]
  },
  {
   "cell_type": "code",
   "execution_count": null,
   "metadata": {},
   "outputs": [],
   "source": []
  },
  {
   "cell_type": "code",
   "execution_count": null,
   "metadata": {},
   "outputs": [],
   "source": [
    "celltypes_of_interest = [\"B cells\",\n",
    "    \"Basophil cells\",\n",
    "    \"Common myeloid progenitor cells\",\n",
    "    \"Dendritic cells\",\n",
    "    \"Granulocyte cells\",\n",
    "    \"Innate lymphoid cells\",\n",
    "    \"Leukocytes\",\n",
    "    \"Lymphocytes\",\n",
    "    \"Macrophages\",\n",
    "    \"Mast cells\",\n",
    "    \"Monocytes\",\n",
    "    \"Myeloid cells\",\n",
    "    \"Neutrophils\",\n",
    "    \"NK cells\",\n",
    "    \"Plasma cells\",\n",
    "    \"T cells\"]"
   ]
  },
  {
   "cell_type": "code",
   "execution_count": null,
   "metadata": {},
   "outputs": [],
   "source": [
    "subset_adata = adata_df[adata_df.obs['celltype'].isin(celltypes_of_interest)]"
   ]
  },
  {
   "cell_type": "code",
   "execution_count": null,
   "metadata": {},
   "outputs": [],
   "source": [
    "sc.pl.matrixplot(subset_adata,\n",
    "                 var_names=datasets,\n",
    "                # var_group_positions = datasets,\n",
    "                 \n",
    "                 groupby='celltype', #categories_order=cells,\n",
    "                 dendrogram=False, vmax=0.3, vmin=0.000001, use_raw=False,\n",
    "                 #cmap='Reds', #standard_scale='var',\n",
    "                 cmap = cm)"
   ]
  },
  {
   "cell_type": "code",
   "execution_count": null,
   "metadata": {},
   "outputs": [],
   "source": []
  },
  {
   "cell_type": "markdown",
   "metadata": {},
   "source": [
    "# TRKA/NTRK1, CD33, CD123/IL3RA, CSF1R, CD86 in Tumor & Healthy Data"
   ]
  },
  {
   "cell_type": "code",
   "execution_count": null,
   "metadata": {},
   "outputs": [],
   "source": [
    "adata_tumor"
   ]
  },
  {
   "cell_type": "code",
   "execution_count": null,
   "metadata": {},
   "outputs": [],
   "source": [
    "adata_healthy"
   ]
  },
  {
   "cell_type": "code",
   "execution_count": null,
   "metadata": {},
   "outputs": [],
   "source": [
    "(adata_healthy.obs['Organ'].value_counts())"
   ]
  },
  {
   "cell_type": "code",
   "execution_count": null,
   "metadata": {},
   "outputs": [],
   "source": [
    "(adata_healthy.obs['celltype'].value_counts())"
   ]
  },
  {
   "cell_type": "code",
   "execution_count": null,
   "metadata": {},
   "outputs": [],
   "source": [
    "(adata_healthy.obs['Dataset'].value_counts())"
   ]
  },
  {
   "cell_type": "code",
   "execution_count": null,
   "metadata": {},
   "outputs": [],
   "source": [
    "ix=np.isin(adata_healthy.obs['Organ'],['BoneMarrow']) \n",
    "adata_healthy_bonemarrow=adata_healthy[ix].copy()\n",
    "adata_healthy_bonemarrow"
   ]
  },
  {
   "cell_type": "code",
   "execution_count": null,
   "metadata": {},
   "outputs": [],
   "source": [
    "gene_list = ['NTRK1', 'CD33', 'IL3RA', 'CSF1R', 'CD86']\n",
    "for i in gene_list:\n",
    "    if i in adata_tumor.var.index:\n",
    "        print('Yes: ', i)\n",
    "    else:\n",
    "        print('No: ', i)"
   ]
  },
  {
   "cell_type": "code",
   "execution_count": null,
   "metadata": {},
   "outputs": [],
   "source": [
    "# Not all cells & datasets included in this example\n",
    "# Define clusters and assign them to organs or general categories\n",
    "celltype_clusters = {\n",
    "    'Brain': ['Neurons', 'Astrocytes', 'Oligodendrocytes', 'Microglial cells', 'Glial cells'],\n",
    "    'Immune Cells': ['T cells', 'B cells', 'Monocytes', 'Macrophages', 'NK cells', 'Dendritic cells', 'Plasma cells', 'Neutrophils', 'Mast cells',\n",
    "                     'Erythroid cells', 'Innate lymphoid cells', 'Erythroid progenitor cells', 'Hematopoietic stem cells', 'Leukocytes', 'Lymphocytes'],\n",
    "    'Vascular Cells': ['Endothelial cells', 'Lymphatic endothelial cells', 'Pericytes'],\n",
    "    'Skin': ['Basal cells', 'Keratinocytes', 'Melanocytes'],\n",
    "    'Digestive Tract': ['Salivary acinar gland cells', 'Mucosal squamous cells', 'Oesophageal epithelial cells', 'Intestinal epithelial cells', 'Secretory cells',\n",
    "                        'Gastric epithelial cells', 'Gastric chief cells', 'Gastric pit cells', 'Gastric parietal cells', 'Intestinal secretory cells', 'Intestinal stem cells'],\n",
    "    'Lung': ['Alveolar cells'],\n",
    "    'Kidney': ['Tubule cells', 'Collecting duct system cells', 'Podocytes'],\n",
    "    'Prostate': ['Prostate epithelium cells'],\n",
    "    'Eye': ['Retinal photoreceptor cells'],\n",
    "    'Thyroid': ['Thyroid follicular cells'],\n",
    "    'Breast': ['Mammary progenitor cells', 'Mammary epithelial gland cells', 'Mammary endocrine cells'],\n",
    "    'Muscle': ['Skeletal muscle cells', 'Skeletal satellite cells', 'Tendon cells'],\n",
    "    'Heart': ['Cardiomyocytes'],\n",
    "    'Liver': ['Hepatocytes', 'Cholangiocytes'],\n",
    "    'Adrenal Gland': ['Zona fasciculata cells', 'Intra-adrenal chromoblasts', 'Intra-adrenal MT high cells', 'Chromaffin cell'],\n",
    "    'Pancreas': ['Pancreatic acinar cells', 'Pancreatic ductal cells', 'Pancreatic endocrine cells', 'Pancreatic stellate cells'],\n",
    "    'Bladder': ['Urothelial cells'],\n",
    "    'Tongue': ['Tongue epithelial cells'],\n",
    "    'Omentum': ['Mesothelial cells'],\n",
    "    'Uterus': ['Epithelial uterus cells', 'Myometrial uterus cells'],\n",
    "    'Other Cells': ['Sperm cells'],\n",
    "    'BoneMarrow': ['Mesenchymal stem cells', 'Hematopoietic stem cells', 'Common myeloid progenitor cells'],\n",
    "    'Gewebe Cells': ['Fibroblast cells', 'Myofibroblast cells', 'Smooth muscle cells']\n",
    "}\n",
    "\n",
    "# Sort datasets by similar organs\n",
    "datasets_order = [\n",
    "    'Cobos_Brain', 'Brainmap_Brain_MultipleAreas',\n",
    "    'Madissoon_Oesophagus', 'Pisco_SalivaryGland', 'Pisco_Tongue',\n",
    "    'Cheng_Skin', 'Nakshatri_Breast',\n",
    "    'Madissoon_Lung', 'Pisco_Trachea',\n",
    "    'Pisco_Blood', 'Kim_LymphNode', 'Pisco_Spleen', 'Pisco_BoneMarrow',\n",
    "    'Steward_Kidney',\n",
    "    'Ramachandran_Liver',\n",
    "    'Pisco_Muscle',\n",
    "    'Han_AdrenalGland',\n",
    "    'Pisco_Prostate',\n",
    "    'Lukowski_Eye',\n",
    "    'Han_Stomach', 'Pisco_Gut_Colon', 'Pisco_Gut_SmallIntestine', \n",
    "    'Pisco_Pancreas',\n",
    "    'Han_Omentum',\n",
    "    'Han_ThyroidGland',\n",
    "    'Pisco_Heart',\n",
    "    'Pisco_Uterus'\n",
    "]"
   ]
  },
  {
   "cell_type": "markdown",
   "metadata": {
    "toc-hr-collapsed": true
   },
   "source": [
    "## UMAP Darstellung auf Van Galen (AML)"
   ]
  },
  {
   "cell_type": "code",
   "execution_count": null,
   "metadata": {},
   "outputs": [],
   "source": [
    "(adata_tumor.obs['original_celltype_1'].value_counts())"
   ]
  },
  {
   "cell_type": "code",
   "execution_count": null,
   "metadata": {},
   "outputs": [],
   "source": [
    "# Rename 'NonMalignant' to 'Healthy'\n",
    "adata_tumor.obs['Malignant'] = adata_tumor.obs['Malignant'].replace({'NonMalignant': 'Healthy'})\n",
    "\n",
    "# Custom color palette for 'Malignant' and 'Healthy'\n",
    "custom_colors = {\n",
    "    'Malignant': '#FF6347',  # Tomato red\n",
    "    'Healthy': '#4682B4'  # Steel blue\n",
    "}\n",
    "\n",
    "# Ensure the color mapping is applied\n",
    "adata_tumor.obs['Malignant'] = adata_tumor.obs['Malignant'].astype('category')\n",
    "adata_tumor.uns['Malignant_colors'] = [custom_colors[category] for category in adata_tumor.obs['Malignant'].cat.categories]\n",
    "\n",
    "# Plot UMAP with the custom colors\n",
    "sc.pl.umap(adata_tumor, color=['Malignant'], vmax=0.5)"
   ]
  },
  {
   "cell_type": "code",
   "execution_count": null,
   "metadata": {},
   "outputs": [],
   "source": [
    "sc.pl.umap(adata_tumor, color=['Malignant'], vmax=0.5)"
   ]
  },
  {
   "cell_type": "code",
   "execution_count": null,
   "metadata": {},
   "outputs": [],
   "source": [
    "# Define clusters and assign them to categories\n",
    "cluster_mapping = {\n",
    "    'T cells': ['T'],\n",
    "    'Cytotoxic T cells': ['CTL'],\n",
    "    'NK cells': ['NK'],\n",
    "    'HSCs': ['HSC', 'HSC-like'],\n",
    "    'Prog': ['Prog', 'Prog-like'],\n",
    "    'GMP': ['GMP', 'GMP-like'],\n",
    "    'ProMono': ['ProMono', 'ProMono-like'],\n",
    "    'EarlyEry': ['earlyEry'],\n",
    "    'ProB cells': ['ProB'],\n",
    "    'Mono': ['Mono', 'Mono-like'],\n",
    "    'B cells': ['B'],\n",
    "    'cDC': ['cDC', 'cDC-like'],\n",
    "    'pDC': ['pDC'],\n",
    "    'LateEry': ['lateEry'],\n",
    "    'Plasma cells': ['Plasma']\n",
    "}\n",
    "\n",
    "# Color Palette\n",
    "color_palette = {\n",
    "    'T cells': '#228B22',\n",
    "    'Cytotoxic T cells': '#32CD32',\n",
    "    'NK cells': '#6B8E23',\n",
    "    'HSCs': '#000080',\n",
    "    'Prog': '#4169E1',\n",
    "    'GMP': '#4682B4',\n",
    "    'ProMono': '#1E90FF',\n",
    "    'EarlyEry': '#87CEFA',\n",
    "    'ProB cells': '#D3D3D3',\n",
    "    'Mono': '#DAA520',\n",
    "    'B cells': '#FFD700',\n",
    "    'cDC': '#FF8C00',\n",
    "    'pDC': '#FF4500',\n",
    "    'LateEry': '#FF6347',\n",
    "    'Plasma cells': '#FF0000'\n",
    "}\n",
    "\n",
    "# Assign colors to cell types within clusters using the predefined color palette\n",
    "cell_type_colors = {}\n",
    "for cluster, cell_types in cluster_mapping.items():\n",
    "    for cell_type in cell_types:\n",
    "        cell_type_colors[cell_type] = color_palette[cluster]\n",
    "\n",
    "# Convert 'original_celltype_1' to a categorical type for consistent handling\n",
    "adata_tumor.obs['original_celltype_1'] = adata_tumor.obs['original_celltype_1'].astype('category')\n",
    "\n",
    "# Assign the custom colors to the categories of 'original_celltype_1' in the AnnData object\n",
    "adata_tumor.uns['original_celltype_1_colors'] = [\n",
    "    cell_type_colors[cell_type] for cell_type in adata_tumor.obs['original_celltype_1'].cat.categories\n",
    "]\n",
    "\n",
    "# Plot the UMAP with the custom colors assigned to the cell types\n",
    "sc.pl.umap(adata_tumor, color=['original_celltype_1'], vmax=0.5)\n"
   ]
  },
  {
   "cell_type": "code",
   "execution_count": null,
   "metadata": {},
   "outputs": [],
   "source": [
    "# Define celltypes and their colors\n",
    "ordered_cell_types = [\n",
    "    'T', 'CTL', 'NK', 'HSC', 'HSC-like', 'Prog', 'Prog-like', 'GMP', 'GMP-like',\n",
    "    'ProMono', 'ProMono-like', 'earlyEry', 'lateEry', 'ProB', 'Mono', 'Mono-like',\n",
    "    'B', 'cDC', 'cDC-like', 'pDC', 'Plasma'\n",
    "]\n",
    "\n",
    "# Cluster their colors\n",
    "color_palette = {\n",
    "    'T': '#228B22',  # T cells\n",
    "    'CTL': '#32CD32',  # Cytotoxic T cells\n",
    "    'NK': '#6B8E23',  # NK cells\n",
    "    'HSC': '#000080',  # HSCs\n",
    "    'HSC-like': '#0000CD',\n",
    "    'Prog': '#4169E1',  # Prog\n",
    "    'Prog-like': '#6495ED',\n",
    "    'GMP': '#4682B4',  # GMP\n",
    "    'GMP-like': '#87CEEB',\n",
    "    'ProMono': '#1E90FF',  # ProMono\n",
    "    'ProMono-like': '#00BFFF',\n",
    "    'earlyEry': '#87CEFA',  # EarlyEry\n",
    "    'lateEry': '#FF6347',  # LateEry\n",
    "    'ProB': '#D3D3D3',  # ProB cells\n",
    "    'Mono': '#DAA520',  # Mono\n",
    "    'Mono-like': '#FFD700',\n",
    "    'B': '#FFD700',  # B cells\n",
    "    'cDC': '#FF8C00',  # cDC\n",
    "    'cDC-like': '#FFA500',\n",
    "    'pDC': '#FF4500',  # pDC\n",
    "    'Plasma': '#FF0000'  # Plasma cells\n",
    "}\n",
    "\n",
    "# Assign colors to the cell types in adata_tumor based on the predefined color palette\n",
    "adata_tumor.obs['original_celltype_1'] = adata_tumor.obs['original_celltype_1'].astype('category')\n",
    "\n",
    "# Assign colors to each cell type according to the provided 'ordered_cell_types'\n",
    "adata_tumor.uns['original_celltype_1_colors'] = [color_palette[cell_type] for cell_type in ordered_cell_types]\n",
    "\n",
    "# Reorder the cell types in 'original_celltype_1' to follow the specified order\n",
    "adata_tumor.obs['original_celltype_1'] = adata_tumor.obs['original_celltype_1'].cat.reorder_categories(ordered_cell_types, ordered=True)\n",
    "\n",
    "\n",
    "# Plot the UMAP with the custom colors and the ordered cell types\n",
    "sc.pl.umap(\n",
    "    adata_tumor,                    # AnnData object with tumor data\n",
    "    color=['original_celltype_1'],   # Color by 'original_celltype_1'\n",
    "    vmax=0.5,                        # Set the maximum color normalization value\n",
    "    save='Philipp_UMAP_Galen_01'     # Save the UMAP plot with a specified name\n",
    ")\n",
    "\n",
    "plt.show()"
   ]
  },
  {
   "cell_type": "code",
   "execution_count": null,
   "metadata": {},
   "outputs": [],
   "source": [
    "sc.pl.umap(adata_tumor, color=gene_list, vmax=0.5)"
   ]
  },
  {
   "cell_type": "markdown",
   "metadata": {},
   "source": [
    "## Dotplot: auf Malignant Datensatz, Dotplot auf Healthy KM, auf allen Healthy Zellen"
   ]
  },
  {
   "cell_type": "code",
   "execution_count": null,
   "metadata": {},
   "outputs": [],
   "source": [
    "celltype_order  = list(adata_tumor.obs['original_celltype_1'].cat.categories)\n",
    "celltype_order .remove('HSC')\n",
    "celltype_order .remove('HSC-like')\n",
    "celltype_order .extend(['HSC', 'HSC-like'])"
   ]
  },
  {
   "cell_type": "code",
   "execution_count": null,
   "metadata": {},
   "outputs": [],
   "source": [
    "sc.pl.dotplot(adata_tumor, gene_list, groupby=['original_celltype_1'], dendrogram=False, vmax=0.3, vmin=0.0001,\n",
    "              swap_axes=True, dot_min=0.0001, dot_max=0.35, use_raw=False, categories_order=celltype_order)"
   ]
  },
  {
   "cell_type": "code",
   "execution_count": null,
   "metadata": {},
   "outputs": [],
   "source": [
    "#Load Tumor adata\n",
    "adata_tumor_full=sc.read(Tumor_h5ad)"
   ]
  },
  {
   "cell_type": "code",
   "execution_count": null,
   "metadata": {},
   "outputs": [],
   "source": [
    "# Subset of hematopoietic stem cells (HSC and HSC-like)\n",
    "adata_HSC = adata_tumor_full[adata_tumor_full.obs['original_celltype_1'].isin(['HSC', 'HSC-like'])].copy()\n",
    "\n",
    "# Renaming the 'NonMalignant' category to 'Healthy' for clarity\n",
    "adata_HSC.obs['Malignant'] = adata_HSC.obs['Malignant'].replace({'NonMalignant': 'Healthy'})\n",
    "\n",
    "# UMAP plot of stem cells (HSC and HSC-like)\n",
    "sc.pp.neighbors(adata_HSC, n_neighbors=15, use_rep='X_pca')\n",
    "sc.tl.umap(adata_HSC)\n",
    "sc.pl.umap(adata_HSC, color=['Malignant'])\n",
    "\n",
    "# Dot plot of selected genes, grouped by Malignant vs Healthy cells\n",
    "genes_to_highlight = ['NTRK1', 'CD33', 'IL3RA', 'CSF1R', 'CD86']\n",
    "\n",
    "# Generating a dot plot, with axes swapped for better visualization, highlighting gene expression in Healthy vs Malignant cells\n",
    "sc.pl.dotplot(adata_HSC, var_names=genes_to_highlight, groupby='Malignant', swap_axes=True)\n"
   ]
  },
  {
   "cell_type": "code",
   "execution_count": null,
   "metadata": {},
   "outputs": [],
   "source": [
    "(adata_tumor_full.obs['Malignant'].value_counts())"
   ]
  },
  {
   "cell_type": "code",
   "execution_count": null,
   "metadata": {},
   "outputs": [],
   "source": [
    "(adata_HSC.obs['Malignant'].value_counts())"
   ]
  },
  {
   "cell_type": "code",
   "execution_count": null,
   "metadata": {},
   "outputs": [],
   "source": [
    "Malignant = adata_tumor_full[adata_tumor_full.obs['Malignant'].isin(['Malignant'])].copy()"
   ]
  },
  {
   "cell_type": "code",
   "execution_count": null,
   "metadata": {},
   "outputs": [],
   "source": [
    "(Malignant.obs['original_celltype_1'].value_counts())"
   ]
  },
  {
   "cell_type": "code",
   "execution_count": null,
   "metadata": {},
   "outputs": [],
   "source": [
    "#Load Tumor adata\n",
    "adata_tumor=sc.read(Tumor_h5ad)\n",
    "\n",
    "adata_tumor.var['genes'] = adata_tumor.var.index\n",
    "ix=np.isin(adata_tumor.var['genes'], gene_list)\n",
    "adata_tumor=adata_tumor[:,ix].copy()\n",
    "\n",
    "adata_obs_list = adata_tumor.obs.columns.tolist()\n",
    "for obs_value in adata_obs_list:\n",
    "    if obs_value in important_obs:\n",
    "        u = 0\n",
    "    else:\n",
    "        del adata_tumor.obs[obs_value]\n",
    "\n",
    "adata_tumor.strings_to_categoricals()"
   ]
  },
  {
   "cell_type": "code",
   "execution_count": null,
   "metadata": {},
   "outputs": [],
   "source": [
    "sc.pl.dotplot(adata_healthy, gene_list, ['celltype'], dendrogram=False,\n",
    "              vmax=0.5, vmin=0.001, swap_axes=True, dot_min=0.001, dot_max=0.4, use_raw=False)"
   ]
  },
  {
   "cell_type": "code",
   "execution_count": null,
   "metadata": {},
   "outputs": [],
   "source": [
    "sc.pl.dotplot(adata_healthy_bonemarrow, gene_list, ['celltype'], dendrogram=False,\n",
    "              vmax=0.5, vmin=0.001, swap_axes=True, dot_min=0.001, dot_max=0.4, use_raw=False)"
   ]
  },
  {
   "cell_type": "markdown",
   "metadata": {},
   "source": [
    "## Violin Plot: auf Malignant Datensatz, Dotplot auf Healthy KM, auf allen Healthy Zellen"
   ]
  },
  {
   "cell_type": "code",
   "execution_count": null,
   "metadata": {},
   "outputs": [],
   "source": [
    "from matplotlib import rc_context"
   ]
  },
  {
   "cell_type": "code",
   "execution_count": null,
   "metadata": {},
   "outputs": [],
   "source": [
    "with rc_context({\"figure.figsize\": (4.5, 3)}):\n",
    "    sc.pl.violin(adata_tumor, gene_list, groupby=\"celltype\", rotation=90, use_raw=False)"
   ]
  },
  {
   "cell_type": "code",
   "execution_count": null,
   "metadata": {},
   "outputs": [],
   "source": [
    "with rc_context({\"figure.figsize\": (4.5, 3)}):\n",
    "    sc.pl.violin(adata_healthy_bonemarrow, gene_list, groupby=\"celltype\", rotation=90, use_raw=False)"
   ]
  },
  {
   "cell_type": "markdown",
   "metadata": {},
   "source": [
    "## Tracksplot: auf Malignant Datensatz, Dotplot auf Healthy KM"
   ]
  },
  {
   "cell_type": "code",
   "execution_count": null,
   "metadata": {},
   "outputs": [],
   "source": [
    "ax = sc.pl.tracksplot(adata_tumor, gene_list, groupby=\"celltype\", dendrogram=False)"
   ]
  },
  {
   "cell_type": "code",
   "execution_count": null,
   "metadata": {},
   "outputs": [],
   "source": [
    "ax = sc.pl.tracksplot(adata_healthy_bonemarrow, gene_list, groupby=\"celltype\", dendrogram=False)"
   ]
  },
  {
   "cell_type": "markdown",
   "metadata": {},
   "source": [
    "## More Analyse von Patient AML707B, Darstellung in Tracksplot & Dotplot"
   ]
  },
  {
   "cell_type": "code",
   "execution_count": null,
   "metadata": {},
   "outputs": [],
   "source": [
    "ax = sc.pl.tracksplot(adata_tumor, gene_list, groupby='Patient', dendrogram=False)\n"
   ]
  },
  {
   "cell_type": "code",
   "execution_count": null,
   "metadata": {},
   "outputs": [],
   "source": [
    "sc.pl.dotplot(adata_tumor, gene_list, ['Patient'], dendrogram=False, vmax=0.5, vmin=0.001, swap_axes=True, dot_min=0.001,\n",
    "              dot_max=0.4, use_raw=False)"
   ]
  },
  {
   "cell_type": "code",
   "execution_count": null,
   "metadata": {},
   "outputs": [],
   "source": [
    "ix=np.isin(adata_tumor.obs['celltype'],['AML cells']) \n",
    "adata_tumor_AMLCells=adata_tumor[ix].copy()\n",
    "ax = sc.pl.tracksplot(adata_tumor_AMLCells, gene_list, groupby='Patient', dendrogram=False)"
   ]
  },
  {
   "cell_type": "code",
   "execution_count": null,
   "metadata": {},
   "outputs": [],
   "source": [
    "sc.pl.dotplot(adata_tumor_AMLCells, gene_list, ['Patient'], dendrogram=False, vmax=0.5, vmin=0.001, swap_axes=True, dot_min=0.001,\n",
    "              dot_max=0.4, use_raw=False)"
   ]
  },
  {
   "cell_type": "markdown",
   "metadata": {},
   "source": [
    "## Analyse von Healthy Organen Darstellung in Tracksplot & Dotplot"
   ]
  },
  {
   "cell_type": "code",
   "execution_count": null,
   "metadata": {},
   "outputs": [],
   "source": [
    "sc.pl.dotplot(adata_healthy, gene_list, ['Organ'], dendrogram=False, vmax=0.5, vmin=0.001,\n",
    "              swap_axes=True, dot_min=0.001, dot_max=0.4, use_raw=False)\n"
   ]
  },
  {
   "cell_type": "code",
   "execution_count": null,
   "metadata": {},
   "outputs": [],
   "source": [
    "ax = sc.pl.tracksplot(adata_healthy, gene_list, groupby='Organ', dendrogram=False)\n"
   ]
  },
  {
   "cell_type": "code",
   "execution_count": 40,
   "metadata": {},
   "outputs": [
    {
     "data": {
      "text/plain": [
       "Index(['AdiposeTissue', 'AdrenalGland', 'Bladder', 'Blood', 'BoneMarrow',\n",
       "       'Brain', 'Breast', 'Eye', 'Gut_Colon', 'Gut_SmallIntestine', 'Heart',\n",
       "       'Kidney', 'Liver', 'Lung', 'LymphNode', 'Muscle', 'Oesophagus',\n",
       "       'Omentum', 'Pancreas', 'Prostate', 'SalivaryGland', 'Skin', 'Spleen',\n",
       "       'Stomach', 'ThyroidGland', 'Tongue', 'Trachea', 'Uterus'],\n",
       "      dtype='object')"
      ]
     },
     "execution_count": 40,
     "metadata": {},
     "output_type": "execute_result"
    }
   ],
   "source": [
    "adata_healthy.obs['Organ'].cat.categories"
   ]
  },
  {
   "cell_type": "code",
   "execution_count": null,
   "metadata": {},
   "outputs": [],
   "source": [
    "# Loop through each organ in the 'Organ' column of the healthy dataset\n",
    "for i in adata_healthy.obs['Organ'].cat.categories:\n",
    "    print(i)\n",
    "    \n",
    "    ix=np.isin(adata_healthy.obs['Organ'],[i]) \n",
    "    adata_organ=adata_healthy[ix].copy()\n",
    "    print('Number of cells: ', len(adata_organ.obs.index))\n",
    "    print(adata_organ.obs['celltype'].value_counts())\n",
    "    gene_list_2 = []\n",
    "    \n",
    "    for i_gene in gene_list:\n",
    "        if i_gene in adata_organ.var.index:\n",
    "            gene_list_2.append(i_gene)\n",
    "            \n",
    "    sc.pl.dotplot(adata_organ, gene_list_2, ['celltype'], dendrogram=False, vmax=0.5, vmin=0.001, swap_axes=True, dot_min=0.001, dot_max=0.4, use_raw=False, save='Philipp_Dotplot_Celltype_Organ_'+ i+ '_Healthy')\n",
    "    ax = sc.pl.tracksplot(adata_organ, gene_list_2, groupby='celltype', dendrogram=False, save='Philipp_ViolinPlot_Celltype_Organ_'+ i+ '_Healthy')\n",
    "    print('________________________________________________')\n",
    "    "
   ]
  }
 ],
 "metadata": {
  "kernelspec": {
   "display_name": "Python 3 (ipykernel)",
   "language": "python",
   "name": "python3"
  },
  "language_info": {
   "codemirror_mode": {
    "name": "ipython",
    "version": 3
   },
   "file_extension": ".py",
   "mimetype": "text/x-python",
   "name": "python",
   "nbconvert_exporter": "python",
   "pygments_lexer": "ipython3",
   "version": "3.8.12"
  },
  "toc-autonumbering": true,
  "toc-showcode": false,
  "toc-showmarkdowntxt": false
 },
 "nbformat": 4,
 "nbformat_minor": 4
}
