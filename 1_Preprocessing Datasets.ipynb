{
 "cells": [
  {
   "cell_type": "markdown",
   "metadata": {},
   "source": [
    "Notebook and data of Ruben Brabenec.\n",
    "\n",
    "This information, data and code belong to Ruben Brabenec (Helmholtz Zentrum München). \n",
    "\n",
    "Disclosure to third parties is prohibited and requires consent.\n",
    "\n",
    "This Python script represents a general approach to single-cell RNA-seq data analysis. Variations may occur depending on the specific format of the raw data files, the thresholds that need to be applied during quality control, the types of cells being analyzed, and the patient data or diseases involved. Adjustments may be required based on the specific experimental setup and the biological context of the study.\n"
   ]
  },
  {
   "cell_type": "code",
   "execution_count": null,
   "metadata": {},
   "outputs": [],
   "source": [
    "#pip install sfaira"
   ]
  },
  {
   "cell_type": "code",
   "execution_count": null,
   "metadata": {},
   "outputs": [],
   "source": [
    "#pip install anndata"
   ]
  },
  {
   "cell_type": "code",
   "execution_count": null,
   "metadata": {},
   "outputs": [],
   "source": [
    "#pip install mygene"
   ]
  },
  {
   "cell_type": "code",
   "execution_count": null,
   "metadata": {},
   "outputs": [],
   "source": [
    "#pip install scanpy"
   ]
  },
  {
   "cell_type": "code",
   "execution_count": null,
   "metadata": {},
   "outputs": [],
   "source": [
    "import scanpy as sc\n",
    "import numpy as np\n",
    "import scipy as sp\n",
    "import pandas as pd\n",
    "import anndata\n",
    "import matplotlib.pyplot as plt\n",
    "from matplotlib import rcParams\n",
    "from matplotlib import colors\n",
    "import seaborn as sb\n",
    "import mygene\n",
    "mg = mygene.MyGeneInfo()\n",
    "import os\n",
    "import sfaira\n",
    "\n",
    "from gprofiler import gprofiler\n",
    "from os import listdir\n",
    "from os.path import isfile, join\n",
    "\n",
    "import warnings\n",
    "from rpy2.rinterface import RRuntimeWarning\n",
    "from rpy2.robjects import pandas2ri\n",
    "\n",
    "# Load R extension for running R code within the Python environment\n",
    "%load_ext rpy2.ipython\n",
    "\n",
    "# Suppress R warnings to avoid clutter during analysis\n",
    "warnings.filterwarnings(\"ignore\", category=RRuntimeWarning)\n",
    "\n",
    "# Activate the pandas2ri interface for seamless conversion between pandas and R data frames\n",
    "pandas2ri.activate()\n",
    "\n",
    "# Configure pandas display settings for better output visibility\n",
    "pd.set_option('display.max_rows', 500)\n",
    "pd.set_option('display.max_columns', 500)\n",
    "\n",
    "# Set verbosity for Scanpy operations to provide detailed logging during analysis\n",
    "sc.settings.verbosity = 3\n",
    "\n",
    "# Define a custom color map for visualizing gene expression values in heatmaps or other figures\n",
    "colors2 = plt.cm.Reds(np.linspace(0, 1, 128))\n",
    "colors3 = plt.cm.Greys_r(np.linspace(0.7, 0.8, 20))\n",
    "colorsComb = np.vstack([colors3, colors2])\n",
    "mymap = colors.LinearSegmentedColormap.from_list('my_colormap', colorsComb)\n",
    "\n",
    "# Set default plotting parameters for Scanpy, ensuring high-quality vector-friendly outputs\n",
    "sc.set_figure_params(vector_friendly=True, color_map='Reds',\n",
    "                     dpi=200, transparent=True, fontsize=14)"
   ]
  },
  {
   "cell_type": "code",
   "execution_count": null,
   "metadata": {},
   "outputs": [],
   "source": [
    "# Define the file path where all raw data files are located\n",
    "path = ...'raw_data/'\n"
   ]
  },
  {
   "cell_type": "markdown",
   "metadata": {},
   "source": [
    "# Curating sample"
   ]
  },
  {
   "cell_type": "code",
   "execution_count": null,
   "metadata": {},
   "outputs": [],
   "source": [
    "# Read the h5ad file into an AnnData object\n",
    "adata = sc.read_h5ad(file_path)"
   ]
  },
  {
   "cell_type": "code",
   "execution_count": null,
   "metadata": {},
   "outputs": [],
   "source": [
    "# Define the paths for the obs and var CSV files\n",
    "obs_csv_path = path + 'obs_data.csv'\n",
    "var_csv_path = path + 'var_data.csv'"
   ]
  },
  {
   "cell_type": "code",
   "execution_count": null,
   "metadata": {},
   "outputs": [],
   "source": [
    "# Read obs and var metadata from CSV files\n",
    "obs_df = pd.read_csv(obs_csv_path, index_col=0)\n",
    "var_df = pd.read_csv(var_csv_path, index_col=0)"
   ]
  },
  {
   "cell_type": "code",
   "execution_count": null,
   "metadata": {},
   "outputs": [],
   "source": [
    "# Ensure that the indices of the obs and var DataFrames match the dimensions of adata\n",
    "# This is crucial for correctly aligning metadata with the expression matrix\n",
    "assert adata.shape[0] == obs_df.shape[0], \"Number of cells in obs does not match the adata dimensions.\"\n",
    "assert adata.shape[1] == var_df.shape[0], \"Number of genes in var does not match the adata dimensions.\""
   ]
  },
  {
   "cell_type": "code",
   "execution_count": null,
   "metadata": {},
   "outputs": [],
   "source": [
    "# Assign the obs and var data to the adata object\n",
    "adata.obs = obs_df\n",
    "adata.var = var_df"
   ]
  },
  {
   "cell_type": "code",
   "execution_count": null,
   "metadata": {},
   "outputs": [],
   "source": [
    "adata.strings_to_categoricals()"
   ]
  },
  {
   "cell_type": "code",
   "execution_count": null,
   "metadata": {},
   "outputs": [],
   "source": [
    "adata.X"
   ]
  },
  {
   "cell_type": "code",
   "execution_count": null,
   "metadata": {},
   "outputs": [],
   "source": [
    "adata.obs = adata.obs.astype(str)"
   ]
  },
  {
   "cell_type": "code",
   "execution_count": null,
   "metadata": {},
   "outputs": [],
   "source": [
    "adata.X.shape"
   ]
  },
  {
   "cell_type": "code",
   "execution_count": null,
   "metadata": {},
   "outputs": [],
   "source": [
    "adata.shape"
   ]
  },
  {
   "cell_type": "markdown",
   "metadata": {},
   "source": [
    "# Preprocess sample"
   ]
  },
  {
   "cell_type": "code",
   "execution_count": null,
   "metadata": {},
   "outputs": [],
   "source": [
    "# Basic quality control (QC) - filter cells and genes based on basic QC metrics\n",
    "# Filter cells with fewer than 200 genes and filter genes expressed in fewer than 3 cells\n",
    "sc.pp.filter_cells(adata, min_genes=200)\n",
    "sc.pp.filter_genes(adata, min_cells=3)"
   ]
  },
  {
   "cell_type": "code",
   "execution_count": null,
   "metadata": {},
   "outputs": [],
   "source": [
    "# Calculate mitochondrial gene fraction\n",
    "# Assuming mitochondrial genes are labeled with 'MT-' in gene names\n",
    "adata.var['mt'] = adata.var_names.str.startswith('MT-')\n",
    "sc.pp.calculate_qc_metrics(adata, qc_vars=['mt'], percent_top=None, log1p=False, inplace=True)"
   ]
  },
  {
   "cell_type": "code",
   "execution_count": null,
   "metadata": {},
   "outputs": [],
   "source": [
    "sc.pl.violin(\n",
    "    adata,\n",
    "    [\"n_genes_by_counts\", \"total_counts\", \"pct_counts_mt\"],\n",
    "    jitter=0.4,\n",
    "    multi_panel=True,\n",
    ")"
   ]
  },
  {
   "cell_type": "code",
   "execution_count": null,
   "metadata": {},
   "outputs": [],
   "source": [
    "sc.pl.scatter(adata, x=\"total_counts\", y=\"pct_counts_mt\")\n",
    "sc.pl.scatter(adata, x=\"total_counts\", y=\"n_genes_by_counts\")"
   ]
  },
  {
   "cell_type": "code",
   "execution_count": null,
   "metadata": {},
   "outputs": [],
   "source": [
    "# Filter cells based on QC metrics\n",
    "# Remove cells with high mitochondrial gene content (>5%) and cells with extremely low or high counts\n",
    "adata = adata[adata.obs['pct_counts_mt'] < 5, :]\n",
    "adata = adata[adata.obs.n_genes_by_counts < 2500, :]\n",
    "adata = adata[adata.obs.n_genes_by_counts > 200, :]"
   ]
  },
  {
   "cell_type": "code",
   "execution_count": null,
   "metadata": {},
   "outputs": [],
   "source": [
    "# Normalize data\n",
    "# Normalize each cell by the total counts over all genes, so that every cell has the same total count\n",
    "# Multiply the normalized values by a scaling factor of 10,000\n",
    "sc.pp.normalize_total(adata, target_sum=1e4)"
   ]
  },
  {
   "cell_type": "code",
   "execution_count": null,
   "metadata": {},
   "outputs": [],
   "source": [
    "# Logarithmic transformation\n",
    "# Apply logarithm to each gene's expression to normalize the distribution\n",
    "sc.pp.log1p(adata)"
   ]
  },
  {
   "cell_type": "code",
   "execution_count": null,
   "metadata": {},
   "outputs": [],
   "source": [
    "# Identify highly variable genes (HVGs)\n",
    "# These genes are used for downstream analysis to capture the most informative genes\n",
    "sc.pp.highly_variable_genes(adata, min_mean=0.0125, max_mean=3, min_disp=0.5)"
   ]
  },
  {
   "cell_type": "code",
   "execution_count": null,
   "metadata": {},
   "outputs": [],
   "source": [
    "# Retain only the highly variable genes for downstream analysis\n",
    "#adata = adata[:, adata.var.highly_variable]"
   ]
  },
  {
   "cell_type": "code",
   "execution_count": null,
   "metadata": {},
   "outputs": [],
   "source": [
    "# Regress out unwanted sources of variation\n",
    "# Regress out total counts per cell and the percentage of mitochondrial genes to reduce noise\n",
    "sc.pp.regress_out(adata, ['total_counts', 'pct_counts_mt'])"
   ]
  },
  {
   "cell_type": "code",
   "execution_count": null,
   "metadata": {},
   "outputs": [],
   "source": [
    "# Scale the data\n",
    "# Each gene is centered to mean 0 and scaled to unit variance for better downstream analysis\n",
    "sc.pp.scale(adata, max_value=10)"
   ]
  },
  {
   "cell_type": "markdown",
   "metadata": {},
   "source": [
    "# Principal Component Analysis (PCA)"
   ]
  },
  {
   "cell_type": "code",
   "execution_count": null,
   "metadata": {},
   "outputs": [],
   "source": [
    "# Perform PCA (Principal Component Analysis) on the scaled data\n",
    "sc.tl.pca(adata, svd_solver='arpack')\n",
    "\n",
    "# Visualize the variance explained by each principal component\n",
    "sc.pl.pca_variance_ratio(adata, log=True)"
   ]
  },
  {
   "cell_type": "markdown",
   "metadata": {},
   "source": [
    "# Computing the neighborhood graph"
   ]
  },
  {
   "cell_type": "code",
   "execution_count": null,
   "metadata": {},
   "outputs": [],
   "source": [
    "# Compute the neighborhood graph of cells\n",
    "sc.pp.neighbors(adata, n_neighbors=10, n_pcs=40)"
   ]
  },
  {
   "cell_type": "markdown",
   "metadata": {},
   "source": [
    "# UMAP"
   ]
  },
  {
   "cell_type": "code",
   "execution_count": null,
   "metadata": {},
   "outputs": [],
   "source": [
    "# Compute UMAP (Uniform Manifold Approximation and Projection)\n",
    "sc.tl.umap(adata)"
   ]
  },
  {
   "cell_type": "code",
   "execution_count": null,
   "metadata": {},
   "outputs": [],
   "source": [
    "# Visualize the cells in UMAP space\n",
    "sc.pl.umap(adata, color=['total_counts', 'pct_counts_mt', 'n_genes_by_counts'])"
   ]
  },
  {
   "cell_type": "code",
   "execution_count": null,
   "metadata": {},
   "outputs": [],
   "source": [
    "sc.pl.umap(adata, color=[\"Gen1\", \"Gen2\", \"Gen3\"])"
   ]
  },
  {
   "cell_type": "markdown",
   "metadata": {},
   "source": [
    "# Annotation"
   ]
  },
  {
   "cell_type": "code",
   "execution_count": null,
   "metadata": {},
   "outputs": [],
   "source": [
    "# Define the 'celltype' categorical variable based on existing categories\n",
    "ref_cluster = pd.Categorical(adata.obs['celltype'], \n",
    "                             categories=['Celltype-1-A', 'Celltype-1-B', 'Celltype-2-A', 'Celltype-2-B'])"
   ]
  },
  {
   "cell_type": "code",
   "execution_count": null,
   "metadata": {},
   "outputs": [],
   "source": [
    "# Consolidate subtypes into broader categories\n",
    "ix = np.isin(ref_cluster, ['Celltype-1-A', 'Celltype-1-B'])\n",
    "ref_cluster[ix] = 'Celltype-1'"
   ]
  },
  {
   "cell_type": "code",
   "execution_count": null,
   "metadata": {},
   "outputs": [],
   "source": [
    "ix = np.isin(ref_cluster, ['Celltype-2-A', 'Celltype-2-B'])\n",
    "ref_cluster[ix] = 'Celltype-2'"
   ]
  },
  {
   "cell_type": "code",
   "execution_count": null,
   "metadata": {},
   "outputs": [],
   "source": [
    "# Update the 'celltype' column in the AnnData object with the new categories\n",
    "adata.obs['celltype'] = pd.Categorical(ref_cluster, \n",
    "                                       categories=['Celltype-1', 'Celltype-2'])"
   ]
  },
  {
   "cell_type": "code",
   "execution_count": null,
   "metadata": {},
   "outputs": [],
   "source": [
    "# Rename categories if necessary\n",
    "adata.rename_categories('celltype', ['Type 1', 'Type 2'])"
   ]
  },
  {
   "cell_type": "code",
   "execution_count": null,
   "metadata": {},
   "outputs": [],
   "source": [
    "# Visualize the new cell type assignments using UMAP\n",
    "sc.pl.umap(adata, color=['celltype'])"
   ]
  },
  {
   "cell_type": "code",
   "execution_count": null,
   "metadata": {},
   "outputs": [],
   "source": [
    "# Ensure all string variables are converted to categorical\n",
    "adata.strings_to_categoricals()"
   ]
  },
  {
   "cell_type": "code",
   "execution_count": null,
   "metadata": {},
   "outputs": [],
   "source": [
    "adata.obs['Malignant'] = 'NonMalignant'\n",
    "adata.obs['celltype_2'] = 'Celltype'\n",
    "\n",
    "for i in adata.obs.index:\n",
    "    if adata.obs['celltype'][i] == 'Malignangt Cell':\n",
    "            adata.obs['Malignant'][i] = 'Malignant'\n",
    "            adata.obs['celltype_2'][i] = 'Malignangt Cell'\n",
    "    else:\n",
    "        adata.obs['Malignant'][i] = 'NonMalignant'\n",
    "        adata.obs['celltype_2'][i] = adata.obs['celltype'][i]"
   ]
  },
  {
   "cell_type": "code",
   "execution_count": null,
   "metadata": {},
   "outputs": [],
   "source": [
    "adata.strings_to_categoricals()"
   ]
  },
  {
   "cell_type": "code",
   "execution_count": null,
   "metadata": {},
   "outputs": [],
   "source": [
    "adata.obs['Organ'] = #Organ\n",
    "adata.obs['Organ_Specific'] = #Organ_Specific\n",
    "adata.obs['Dataset'] = #Dataset\n",
    "adata.obs['InternDatasetNumber'] = #InternDatasetNumber\n",
    "adata.obs['Dataset_status'] = #Dataset_status\n",
    "\n",
    "adata.obs['celltype'] = adata.obs['celltype']\n",
    "adata.obs['sub_celltype'] = adata.obs['sub_celltype']\n",
    "adata.obs['Malignant'] = adata.obs['Malignant']\n",
    "\n",
    "adata.obs['Patient'] = adata.obs['Patient']\n",
    "adata.obs['Patient_Number'] = adata.obs['Patient_Number']\n",
    "adata.obs['age'] = adata.obs['age']\n",
    "adata.obs['sex'] = adata.obs['sex']\n",
    "adata.obs['ethnicity'] = adata.obs['ethnicity']\n",
    "adata.obs['health_status'] = #Organ\n",
    "\n",
    "adata.obs['original_celltype_1'] = adata.obs['original_celltype_1']\n",
    "adata.obs['original_celltype_2'] = adata.obs['original_celltype_2']\n",
    "adata.obs['original_celltype_3'] = adata.obs['original_celltype_3']"
   ]
  },
  {
   "cell_type": "code",
   "execution_count": null,
   "metadata": {},
   "outputs": [],
   "source": [
    "import scipy.sparse as sp\n",
    "adata.X = sp.csr_matrix(adata.X)"
   ]
  },
  {
   "cell_type": "code",
   "execution_count": null,
   "metadata": {},
   "outputs": [],
   "source": [
    "adata.obs_names_make_unique()"
   ]
  },
  {
   "cell_type": "code",
   "execution_count": null,
   "metadata": {},
   "outputs": [],
   "source": [
    "path = 'adata/'"
   ]
  },
  {
   "cell_type": "code",
   "execution_count": null,
   "metadata": {},
   "outputs": [],
   "source": [
    "adata.write(path + 'FileName.h5ad')"
   ]
  }
 ],
 "metadata": {
  "kernelspec": {
   "display_name": "Python 3 (ipykernel)",
   "language": "python",
   "name": "python3"
  },
  "language_info": {
   "codemirror_mode": {
    "name": "ipython",
    "version": 3
   },
   "file_extension": ".py",
   "mimetype": "text/x-python",
   "name": "python",
   "nbconvert_exporter": "python",
   "pygments_lexer": "ipython3",
   "version": "3.8.12"
  }
 },
 "nbformat": 4,
 "nbformat_minor": 4
}
